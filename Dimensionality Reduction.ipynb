{
 "cells": [
  {
   "cell_type": "markdown",
   "metadata": {},
   "source": [
    "# Dimensionality Reduction"
   ]
  },
  {
   "cell_type": "code",
   "execution_count": 1,
   "metadata": {},
   "outputs": [
    {
     "name": "stdout",
     "output_type": "stream",
     "text": [
      "Starts with number....\n",
      "Clickbait Phrases....\n",
      "Clickbait re....\n",
      "Num dots....\n",
      "Text Features....\n",
      "Punctuation....\n",
      "Word ratios....\n",
      "Sentiment Scores....\n",
      "Readability Scores....\n"
     ]
    },
    {
     "data": {
      "application/vnd.jupyter.widget-view+json": {
       "model_id": "8fed4486fec6423db8b1d4bcad992523",
       "version_major": 2,
       "version_minor": 0
      },
      "text/plain": [
       "HBox(children=(FloatProgress(value=0.0, max=10000.0), HTML(value='')))"
      ]
     },
     "metadata": {},
     "output_type": "display_data"
    },
    {
     "name": "stdout",
     "output_type": "stream",
     "text": [
      "\n"
     ]
    },
    {
     "data": {
      "application/vnd.jupyter.widget-view+json": {
       "model_id": "6c39a7b055c04b6f88a96521a7cd5aac",
       "version_major": 2,
       "version_minor": 0
      },
      "text/plain": [
       "HBox(children=(FloatProgress(value=0.0, max=20000.0), HTML(value='')))"
      ]
     },
     "metadata": {},
     "output_type": "display_data"
    },
    {
     "name": "stdout",
     "output_type": "stream",
     "text": [
      "\n",
      "Glove.....\n"
     ]
    },
    {
     "data": {
      "application/vnd.jupyter.widget-view+json": {
       "model_id": "bb2db983e4c143118aabc12d5a881bb5",
       "version_major": 2,
       "version_minor": 0
      },
      "text/plain": [
       "HBox(children=(FloatProgress(value=0.0, max=10000.0), HTML(value='')))"
      ]
     },
     "metadata": {},
     "output_type": "display_data"
    },
    {
     "name": "stdout",
     "output_type": "stream",
     "text": [
      "\n"
     ]
    },
    {
     "data": {
      "application/vnd.jupyter.widget-view+json": {
       "model_id": "af3a23e7e2624e42a91887a78726b603",
       "version_major": 2,
       "version_minor": 0
      },
      "text/plain": [
       "HBox(children=(FloatProgress(value=0.0, max=20000.0), HTML(value='')))"
      ]
     },
     "metadata": {},
     "output_type": "display_data"
    },
    {
     "name": "stdout",
     "output_type": "stream",
     "text": [
      "\n",
      "DONE!\n"
     ]
    }
   ],
   "source": [
    "import warnings\n",
    "warnings.filterwarnings('ignore') \n",
    "%matplotlib inline\n",
    "from utility_funcitons import *\n",
    "from feature_selection import *\n",
    "import pandas as pd \n",
    "import numpy as np\n",
    "\n",
    "\n",
    "train = pd.read_csv('train.csv')\n",
    "test = pd.read_csv('test.csv')\n",
    "train_features, test_features, feature_names = featurize(train, test, 'tfidf_glove')\n",
    "\n",
    "y_train = np.where(train.label.values == 'clickbait', 1, 0)\n",
    "y_test = np.where(test.label.values == 'clickbait', 1, 0)"
   ]
  },
  {
   "cell_type": "code",
   "execution_count": 2,
   "metadata": {},
   "outputs": [],
   "source": [
    "from sklearn.model_selection import GridSearchCV, PredefinedSplit\n",
    "from sklearn.metrics import make_scorer\n",
    "from scipy import sparse\n",
    "\n",
    "\n",
    "def warn(*args, **kwargs):\n",
    "    pass\n",
    "import warnings\n",
    "warnings.warn = warn\n",
    "\n",
    "\n",
    "def adjusted_f1(y_true, y_prob):\n",
    "    f1 = print_model_metrics(y_true, y_prob, verbose = 0, return_metrics = True)[0]\n",
    "    return f1\n",
    "\n",
    "score = make_scorer(adjusted_f1, greater_is_better = True, needs_proba = True)\n",
    "\n",
    "X = sparse.vstack((train_features, test_features))\n",
    "test_fold = [-1 for _ in range(train_features.shape[0])] + [0 for _ in range(test_features.shape[0])]\n",
    "y = np.concatenate([y_train, y_test])\n",
    "ps = PredefinedSplit(test_fold)\n",
    "\n",
    "def run_grid_search(model, params, x_train, y_train):\n",
    "    grid = GridSearchCV(model, params, cv = ps, n_jobs = 4, scoring = score, verbose = 0, refit = False)\n",
    "    grid.fit(x_train, y_train)\n",
    "    return (grid.best_params_, grid.best_score_)\n",
    "\n",
    "\n",
    "def fit_n_times(model, x_train, y_train, x_test, y_test, n_iters = 10):\n",
    "    metrics = np.zeros(5)\n",
    "    for _ in range(n_iters):\n",
    "        model.fit(x_train, y_train)\n",
    "        y_test_prob = model.predict_proba(x_test)[:,1]\n",
    "        metrics += print_model_metrics(y_test, y_test_prob, verbose = False, return_metrics = True)\n",
    "    metrics /=10\n",
    "    print('F1: {:.3f} | Pr: {:.3f} | Re: {:.3f} | AUC: {:.3f} | Accuracy: {:.3f} \\n'.format(*metrics))\n",
    "\n"
   ]
  },
  {
   "cell_type": "code",
   "execution_count": 3,
   "metadata": {},
   "outputs": [
    {
     "name": "stdout",
     "output_type": "stream",
     "text": [
      "F1: 0.983 | Pr: 0.981 | Re: 0.986 | AUC: 0.998 | Accuracy: 0.983 \n",
      "\n"
     ]
    },
    {
     "data": {
      "text/plain": [
       "SGDClassifier(loss='log', n_jobs=-1)"
      ]
     },
     "execution_count": 3,
     "metadata": {},
     "output_type": "execute_result"
    }
   ],
   "source": [
    "from sklearn.feature_selection import SelectKBest\n",
    "\n",
    "\n",
    "selector = SelectKBest(k = 80)\n",
    "train_features_selected = selector.fit_transform(train_features, y_train)\n",
    "test_features_selected = selector.transform(test_features)\n",
    "run_log_reg(train_features_selected, test_features_selected, y_train, y_test)"
   ]
  },
  {
   "cell_type": "code",
   "execution_count": 4,
   "metadata": {},
   "outputs": [
    {
     "data": {
      "application/vnd.jupyter.widget-view+json": {
       "model_id": "8b64c5f349604b968bdd4abb01c9f1bc",
       "version_major": 2,
       "version_minor": 0
      },
      "text/plain": [
       "HBox(children=(FloatProgress(value=0.0, max=118.0), HTML(value='')))"
      ]
     },
     "metadata": {},
     "output_type": "display_data"
    },
    {
     "name": "stdout",
     "output_type": "stream",
     "text": [
      "\n"
     ]
    }
   ],
   "source": [
    "from utility_funcitons import *\n",
    "\n",
    "f1_scores = []\n",
    "\n",
    "for k in tqdm_notebook(range(1, train_features.shape[1])):\n",
    "    selector = SelectKBest(k = k)\n",
    "    train_features_selected = selector.fit_transform(train_features, y_train)\n",
    "    test_features_selected = selector.transform(test_features)\n",
    "    f1_scores.append(run_log_reg(train_features_selected, test_features_selected, y_train, y_test, alpha = 1e-2, return_f1 = True, verbose = 0))\n",
    "f1_scores = np.array(f1_scores)"
   ]
  },
  {
   "cell_type": "code",
   "execution_count": 15,
   "metadata": {},
   "outputs": [
    {
     "data": {
      "image/png": "[encoded data removed]",
      "text/plain": [
       "<Figure size 432x288 with 1 Axes>"
      ]
     },
     "metadata": {
      "needs_background": "light"
     },
     "output_type": "display_data"
    }
   ],
   "source": [
    "# Now let's plot the F1 scores:\n",
    "import matplotlib.pyplot as plt\n",
    "import seaborn as sns\n",
    "sns.set()\n",
    "%matplotlib inline\n",
    "\n",
    "x = list(range(1, train_features.shape[1]))\n",
    "plt.plot(x, f1_scores)\n",
    "plt.xlabel('Number of Features')\n",
    "plt.ylabel('F1 Scores')\n",
    "plt.title('F1 Scores vs Num Features')\n",
    "plt.grid()\n",
    "plt.show()\n",
    "\n"
   ]
  },
  {
   "cell_type": "code",
   "execution_count": 6,
   "metadata": {},
   "outputs": [
    {
     "name": "stdout",
     "output_type": "stream",
     "text": [
      "117\n"
     ]
    }
   ],
   "source": [
    "print(np.argmax(f1_scores) + 1)\n"
   ]
  },
  {
   "cell_type": "code",
   "execution_count": 16,
   "metadata": {},
   "outputs": [
    {
     "name": "stdout",
     "output_type": "stream",
     "text": [
      "F1: 0.965 | Pr: 0.962 | Re: 0.968 | AUC: 0.994 | Accuracy: 0.965 \n",
      "\n"
     ]
    },
    {
     "data": {
      "text/plain": [
       "SGDClassifier(alpha=0.01, loss='log', n_jobs=-1)"
      ]
     },
     "execution_count": 16,
     "metadata": {},
     "output_type": "execute_result"
    }
   ],
   "source": [
    "selector = SelectKBest(k = 60)\n",
    "train_features_selected = selector.fit_transform(train_features, y_train)\n",
    "test_features_selected = selector.transform(test_features)\n",
    "run_log_reg(train_features_selected, test_features_selected, y_train, y_test, alpha = 1e-2)"
   ]
  },
  {
   "cell_type": "code",
   "execution_count": 8,
   "metadata": {},
   "outputs": [
    {
     "data": {
      "text/plain": [
       "array(['starts_with_number', 'mean_word_length', 'easy_words_ratio',\n",
       "       'stop_words_ratio', 'clickbait_subs_ratio',\n",
       "       'nonclickbait_subs_ratio', 'dale_chall_readability_score',\n",
       "       'glove_1', 'glove_3', 'glove_4', 'glove_6', 'glove_10', 'glove_14',\n",
       "       'glove_17', 'glove_19', 'glove_27', 'glove_32', 'glove_33',\n",
       "       'glove_35', 'glove_39', 'glove_40', 'glove_45', 'glove_46',\n",
       "       'glove_47', 'glove_51', 'glove_53', 'glove_56', 'glove_61',\n",
       "       'glove_62', 'glove_65', 'glove_72', 'glove_74', 'glove_77',\n",
       "       'glove_79', 'glove_85', 'glove_87', 'glove_89', 'glove_90',\n",
       "       'glove_92', 'glove_93', 'glove_94', 'glove_95', 'glove_96',\n",
       "       'glove_97', 'glove_98'], dtype='<U28')"
      ]
     },
     "execution_count": 8,
     "metadata": {},
     "output_type": "execute_result"
    }
   ],
   "source": [
    "# we can use get_support() to find out exactly which features were selected\n",
    "np.array(feature_names)[selector.get_support()]\n"
   ]
  },
  {
   "cell_type": "markdown",
   "metadata": {},
   "source": [
    "### Select Percentile"
   ]
  },
  {
   "cell_type": "code",
   "execution_count": 9,
   "metadata": {},
   "outputs": [
    {
     "data": {
      "application/vnd.jupyter.widget-view+json": {
       "model_id": "f3969186a87b4d61823f5166f2a681da",
       "version_major": 2,
       "version_minor": 0
      },
      "text/plain": [
       "HBox(children=(FloatProgress(value=0.0), HTML(value='')))"
      ]
     },
     "metadata": {},
     "output_type": "display_data"
    },
    {
     "name": "stdout",
     "output_type": "stream",
     "text": [
      "\n"
     ]
    }
   ],
   "source": [
    "from sklearn.feature_selection import SelectPercentile\n",
    "\n",
    "f1_scores = []\n",
    "\n",
    "for percentage in tqdm_notebook(range(1, 101)):\n",
    "    selector = SelectPercentile(percentile = percentage)\n",
    "    train_features_selected = selector.fit_transform(train_features, y_train)\n",
    "    test_features_selected = selector.transform(test_features)\n",
    "    f1_scores.append(run_log_reg(train_features_selected, test_features_selected, y_train, y_test, alpha = 1e-2, return_f1 = True, verbose = 0))\n",
    "f1_scores = np.array(f1_scores)"
   ]
  },
  {
   "cell_type": "code",
   "execution_count": 10,
   "metadata": {},
   "outputs": [
    {
     "data": {
      "image/png": "[encoded data removed]",
      "text/plain": [
       "<Figure size 432x288 with 1 Axes>"
      ]
     },
     "metadata": {
      "needs_background": "light"
     },
     "output_type": "display_data"
    }
   ],
   "source": [
    "# Now let's plot the F1 scores:\n",
    "import matplotlib.pyplot as plt\n",
    "\n",
    "%matplotlib inline\n",
    "\n",
    "x = list(range(1, 101))\n",
    "plt.plot(x, f1_scores)\n",
    "plt.xlabel('Percentage of Features')\n",
    "plt.ylabel('F1 Scores')\n",
    "plt.title('F1 Scores vs Num Features')\n",
    "plt.grid()\n",
    "plt.show()\n"
   ]
  },
  {
   "cell_type": "code",
   "execution_count": 11,
   "metadata": {},
   "outputs": [
    {
     "name": "stdout",
     "output_type": "stream",
     "text": [
      "99\n"
     ]
    }
   ],
   "source": [
    "print(np.argmax(f1_scores) + 1)"
   ]
  },
  {
   "cell_type": "code",
   "execution_count": 12,
   "metadata": {},
   "outputs": [
    {
     "name": "stdout",
     "output_type": "stream",
     "text": [
      "F1: 0.961 | Pr: 0.956 | Re: 0.965 | AUC: 0.993 | Accuracy: 0.961 \n",
      "\n"
     ]
    },
    {
     "data": {
      "text/plain": [
       "SGDClassifier(alpha=0.01, loss='log', n_jobs=-1)"
      ]
     },
     "execution_count": 12,
     "metadata": {},
     "output_type": "execute_result"
    }
   ],
   "source": [
    "selector = SelectPercentile(percentile = 37)\n",
    "train_features_selected = selector.fit_transform(train_features, y_train)\n",
    "test_features_selected = selector.transform(test_features)\n",
    "run_log_reg(train_features_selected, test_features_selected, y_train, y_test, alpha = 1e-2)"
   ]
  },
  {
   "cell_type": "code",
   "execution_count": 13,
   "metadata": {},
   "outputs": [
    {
     "data": {
      "text/plain": [
       "array(['starts_with_number', 'mean_word_length', 'easy_words_ratio',\n",
       "       'stop_words_ratio', 'clickbait_subs_ratio',\n",
       "       'nonclickbait_subs_ratio', 'dale_chall_readability_score',\n",
       "       'glove_1', 'glove_3', 'glove_4', 'glove_6', 'glove_10', 'glove_14',\n",
       "       'glove_17', 'glove_19', 'glove_27', 'glove_32', 'glove_33',\n",
       "       'glove_35', 'glove_39', 'glove_40', 'glove_45', 'glove_46',\n",
       "       'glove_47', 'glove_51', 'glove_53', 'glove_56', 'glove_61',\n",
       "       'glove_65', 'glove_72', 'glove_74', 'glove_77', 'glove_79',\n",
       "       'glove_85', 'glove_87', 'glove_89', 'glove_90', 'glove_92',\n",
       "       'glove_93', 'glove_94', 'glove_95', 'glove_96', 'glove_97',\n",
       "       'glove_98'], dtype='<U28')"
      ]
     },
     "execution_count": 13,
     "metadata": {},
     "output_type": "execute_result"
    }
   ],
   "source": [
    "np.array(feature_names)[selector.get_support()]"
   ]
  },
  {
   "cell_type": "markdown",
   "metadata": {},
   "source": [
    "# Recursive Feature Elimination"
   ]
  },
  {
   "cell_type": "code",
   "execution_count": 14,
   "metadata": {},
   "outputs": [],
   "source": [
    "# Since we have a hold out Test set that we would like to use - Let's create a `PredefinedSplit`\n",
    "from sklearn.model_selection import PredefinedSplit\n",
    "\n",
    "X = sparse.vstack((train_features, test_features))\n",
    "test_fold = [-1 for _ in range(train_features.shape[0])] + [0 for _ in range(test_features.shape[0])]     # We need to label -1 for the train set and 0 for test set\n",
    "y = np.concatenate([y_train, y_test])\n",
    "ps = PredefinedSplit(test_fold)"
   ]
  },
  {
   "cell_type": "code",
   "execution_count": 15,
   "metadata": {},
   "outputs": [
    {
     "name": "stdout",
     "output_type": "stream",
     "text": [
      "Fitting estimator with 119 features.\n",
      "Fitting estimator with 118 features.\n",
      "Fitting estimator with 117 features.\n",
      "Fitting estimator with 116 features.\n",
      "Fitting estimator with 115 features.\n",
      "Fitting estimator with 114 features.\n",
      "Fitting estimator with 113 features.\n",
      "Fitting estimator with 112 features.\n",
      "Fitting estimator with 111 features.\n",
      "Fitting estimator with 110 features.\n",
      "Fitting estimator with 109 features.\n",
      "Fitting estimator with 108 features.\n",
      "Fitting estimator with 107 features.\n",
      "Fitting estimator with 106 features.\n",
      "Fitting estimator with 105 features.\n",
      "Fitting estimator with 104 features.\n",
      "Fitting estimator with 103 features.\n",
      "Fitting estimator with 102 features.\n",
      "Fitting estimator with 101 features.\n",
      "Fitting estimator with 100 features.\n",
      "Fitting estimator with 99 features.\n",
      "Fitting estimator with 98 features.\n",
      "Fitting estimator with 97 features.\n",
      "Fitting estimator with 96 features.\n",
      "Fitting estimator with 95 features.\n",
      "Fitting estimator with 94 features.\n",
      "Fitting estimator with 93 features.\n",
      "Fitting estimator with 92 features.\n",
      "Fitting estimator with 91 features.\n",
      "Fitting estimator with 90 features.\n",
      "Fitting estimator with 89 features.\n",
      "Fitting estimator with 88 features.\n"
     ]
    },
    {
     "data": {
      "text/plain": [
       "RFECV(cv=PredefinedSplit(test_fold=array([-1, -1, ...,  0,  0])),\n",
       "      estimator=SGDClassifier(alpha=0.001, loss='log'), n_jobs=-1, scoring='f1',\n",
       "      verbose=1)"
      ]
     },
     "execution_count": 15,
     "metadata": {},
     "output_type": "execute_result"
    }
   ],
   "source": [
    "from sklearn.feature_selection import RFECV\n",
    "\n",
    "log_reg = SGDClassifier(loss = 'log', alpha = 1e-3)\n",
    "\n",
    "selector = RFECV(log_reg, scoring = 'f1', n_jobs = -1, cv = ps, verbose = 1)\n",
    "selector.fit(X, y)"
   ]
  },
  {
   "cell_type": "code",
   "execution_count": 16,
   "metadata": {},
   "outputs": [
    {
     "name": "stdout",
     "output_type": "stream",
     "text": [
      "F1: 0.961 | Pr: 0.953 | Re: 0.969 | AUC: 0.993 | Accuracy: 0.961 \n",
      "\n"
     ]
    },
    {
     "data": {
      "text/plain": [
       "SGDClassifier(alpha=0.1, loss='log', n_jobs=-1)"
      ]
     },
     "execution_count": 16,
     "metadata": {},
     "output_type": "execute_result"
    }
   ],
   "source": [
    "# Now lets select the best features and check the performance\n",
    "train_features_selected = selector.transform(train_features)\n",
    "test_features_selected = selector.transform(test_features)\n",
    "\n",
    "run_log_reg(train_features_selected, test_features_selected, y_train, y_test, alpha = 1e-1)"
   ]
  },
  {
   "cell_type": "code",
   "execution_count": 17,
   "metadata": {},
   "outputs": [
    {
     "name": "stdout",
     "output_type": "stream",
     "text": [
      "Number of features selected : 87\n"
     ]
    },
    {
     "data": {
      "text/plain": [
       "array(['starts_with_number', 'clickbait_phrases', 'num_dots',\n",
       "       'mean_word_length', 'length_in_chars', 'easy_words_ratio',\n",
       "       'stop_words_ratio', 'contractions_ratio', 'hyperbolic_ratio',\n",
       "       'clickbait_subs_ratio', 'nonclickbait_subs_ratio',\n",
       "       'sentiment_compound', 'dale_chall_readability_score',\n",
       "       'num_punctuations', 'glove_0', 'glove_1', 'glove_2', 'glove_3',\n",
       "       'glove_4', 'glove_5', 'glove_6', 'glove_10', 'glove_12',\n",
       "       'glove_13', 'glove_14', 'glove_15', 'glove_16', 'glove_17',\n",
       "       'glove_18', 'glove_19', 'glove_21', 'glove_24', 'glove_25',\n",
       "       'glove_27', 'glove_29', 'glove_32', 'glove_33', 'glove_35',\n",
       "       'glove_36', 'glove_39', 'glove_40', 'glove_41', 'glove_43',\n",
       "       'glove_45', 'glove_46', 'glove_47', 'glove_50', 'glove_51',\n",
       "       'glove_52', 'glove_53', 'glove_54', 'glove_55', 'glove_56',\n",
       "       'glove_57', 'glove_58', 'glove_59', 'glove_60', 'glove_61',\n",
       "       'glove_65', 'glove_66', 'glove_68', 'glove_70', 'glove_71',\n",
       "       'glove_72', 'glove_73', 'glove_74', 'glove_75', 'glove_76',\n",
       "       'glove_77', 'glove_79', 'glove_80', 'glove_81', 'glove_82',\n",
       "       'glove_85', 'glove_87', 'glove_88', 'glove_89', 'glove_90',\n",
       "       'glove_91', 'glove_92', 'glove_93', 'glove_94', 'glove_95',\n",
       "       'glove_96', 'glove_97', 'glove_98', 'glove_99'], dtype='<U28')"
      ]
     },
     "execution_count": 17,
     "metadata": {},
     "output_type": "execute_result"
    }
   ],
   "source": [
    "# Lets check which features were selected \n",
    "print('Number of features selected : {}'.format(selector.n_features_))\n",
    "np.array(feature_names)[selector.support_]"
   ]
  },
  {
   "cell_type": "markdown",
   "metadata": {},
   "source": [
    "# Sequential Forward Selection"
   ]
  },
  {
   "cell_type": "code",
   "execution_count": 17,
   "metadata": {
    "scrolled": false
   },
   "outputs": [],
   "source": [
    "# # Note: MLxtend provides the SFS Implementation\n",
    "# from mlxtend.feature_selection import SequentialFeatureSelector\n",
    "\n",
    "# log_reg = SGDClassifier(loss = 'log', alpha = 1e-2)\n",
    "\n",
    "# selector = SequentialFeatureSelector(log_reg, k_features = 'best', floating = True, cv = ps, scoring = 'f1', verbose = 1, n_jobs = -1) # k_features = 'best' returns the best subset of features\n",
    "# selector.fit(X.tocsr(), y)"
   ]
  },
  {
   "cell_type": "code",
   "execution_count": 18,
   "metadata": {},
   "outputs": [],
   "source": [
    "# # Now lets select the best features and check the performance\n",
    "# train_features_selected = selector.transform(train_features.tocsr())\n",
    "# test_features_selected = selector.transform(test_features.tocsr())\n",
    "\n",
    "# run_log_reg(train_features_selected, test_features_selected, y_train, y_test, alpha = 1e-2)"
   ]
  },
  {
   "cell_type": "code",
   "execution_count": 19,
   "metadata": {},
   "outputs": [],
   "source": [
    "# print('Num of features selected : {}'.format(len(selector.k_feature_idx_)))\n",
    "# np.array(feature_names)[list(selector.k_feature_idx_)]"
   ]
  },
  {
   "cell_type": "markdown",
   "metadata": {},
   "source": [
    "# Decomposition"
   ]
  },
  {
   "cell_type": "code",
   "execution_count": 20,
   "metadata": {},
   "outputs": [
    {
     "data": {
      "text/plain": [
       "TruncatedSVD(n_components=118)"
      ]
     },
     "execution_count": 20,
     "metadata": {},
     "output_type": "execute_result"
    }
   ],
   "source": [
    "from sklearn.decomposition import TruncatedSVD\n",
    "import seaborn as sns\n",
    "sns.set()\n",
    "svd = TruncatedSVD(train_features.shape[1] - 1)\n",
    "svd.fit(train_features)"
   ]
  },
  {
   "cell_type": "code",
   "execution_count": 21,
   "metadata": {},
   "outputs": [
    {
     "data": {
      "text/plain": [
       "Text(0.5, 1.0, 'Number of Components vs Explained Variance')"
      ]
     },
     "execution_count": 21,
     "metadata": {},
     "output_type": "execute_result"
    },
    {
     "data": {
      "image/png": "[encoded data removed]",
      "text/plain": [
       "<Figure size 432x288 with 1 Axes>"
      ]
     },
     "metadata": {},
     "output_type": "display_data"
    }
   ],
   "source": [
    "# We want to find the number of components that explains most of the variance\n",
    "plt.plot(np.cumsum(svd.explained_variance_ratio_))\n",
    "plt.xlabel('Number of Components')\n",
    "plt.ylabel('Explained Variance')\n",
    "plt.title('Number of Components vs Explained Variance')"
   ]
  },
  {
   "cell_type": "code",
   "execution_count": 22,
   "metadata": {},
   "outputs": [
    {
     "name": "stdout",
     "output_type": "stream",
     "text": [
      "F1: 0.958 | Pr: 0.952 | Re: 0.965 | AUC: 0.992 | Accuracy: 0.958 \n",
      "\n"
     ]
    },
    {
     "data": {
      "text/plain": [
       "SGDClassifier(alpha=0.1, loss='log', n_jobs=-1)"
      ]
     },
     "execution_count": 22,
     "metadata": {},
     "output_type": "execute_result"
    }
   ],
   "source": [
    "# Lets go ahead and reduce dimensionality to 50\n",
    "\n",
    "svd = TruncatedSVD(117)\n",
    "train_featurse_decomposed = svd.fit_transform(train_features)\n",
    "test_featurse_decomposed = svd.transform(test_features)\n",
    "\n",
    "run_log_reg(train_featurse_decomposed, test_featurse_decomposed, y_train, y_test, alpha = 1e-1)"
   ]
  },
  {
   "cell_type": "markdown",
   "metadata": {},
   "source": [
    "# Stacking Classifier with Feature Selection"
   ]
  },
  {
   "cell_type": "code",
   "execution_count": 23,
   "metadata": {
    "scrolled": false
   },
   "outputs": [
    {
     "name": "stdout",
     "output_type": "stream",
     "text": [
      "Model: \"sequential_1\"\n",
      "_________________________________________________________________\n",
      " Layer (type)                Output Shape              Param #   \n",
      "=================================================================\n",
      " dense_3 (Dense)             (None, 150)               9150      \n",
      "                                                                 \n",
      " dropout_2 (Dropout)         (None, 150)               0         \n",
      "                                                                 \n",
      " dense_4 (Dense)             (None, 100)               15100     \n",
      "                                                                 \n",
      " dropout_3 (Dropout)         (None, 100)               0         \n",
      "                                                                 \n",
      " dense_5 (Dense)             (None, 1)                 101       \n",
      "                                                                 \n",
      "=================================================================\n",
      "Total params: 24,351\n",
      "Trainable params: 24,351\n",
      "Non-trainable params: 0\n",
      "_________________________________________________________________\n",
      "Epoch 1/50\n",
      "612/625 [============================>.] - ETA: 0s - loss: 0.1673 - accuracy: 0.9349\n",
      "Epoch 00001: val_accuracy improved from -inf to 0.96740, saving model to ./saved_models\n",
      "INFO:tensorflow:Assets written to: ./saved_models/assets\n",
      "625/625 [==============================] - 3s 4ms/step - loss: 0.1658 - accuracy: 0.9356 - val_loss: 0.0880 - val_accuracy: 0.9674\n",
      "Epoch 2/50\n",
      "596/625 [===========================>..] - ETA: 0s - loss: 0.0795 - accuracy: 0.9705\n",
      "Epoch 00002: val_accuracy improved from 0.96740 to 0.97785, saving model to ./saved_models\n",
      "INFO:tensorflow:Assets written to: ./saved_models/assets\n",
      "625/625 [==============================] - 2s 3ms/step - loss: 0.0802 - accuracy: 0.9706 - val_loss: 0.0638 - val_accuracy: 0.9779\n",
      "Epoch 3/50\n",
      "593/625 [===========================>..] - ETA: 0s - loss: 0.0725 - accuracy: 0.9738\n",
      "Epoch 00003: val_accuracy did not improve from 0.97785\n",
      "625/625 [==============================] - 1s 2ms/step - loss: 0.0717 - accuracy: 0.9742 - val_loss: 0.0791 - val_accuracy: 0.9718\n",
      "Epoch 4/50\n",
      "578/625 [==========================>...] - ETA: 0s - loss: 0.0713 - accuracy: 0.9722\n",
      "Epoch 00004: val_accuracy improved from 0.97785 to 0.97790, saving model to ./saved_models\n",
      "INFO:tensorflow:Assets written to: ./saved_models/assets\n",
      "625/625 [==============================] - 2s 3ms/step - loss: 0.0707 - accuracy: 0.9723 - val_loss: 0.0618 - val_accuracy: 0.9779\n",
      "Epoch 5/50\n",
      "599/625 [===========================>..] - ETA: 0s - loss: 0.0674 - accuracy: 0.9752\n",
      "Epoch 00005: val_accuracy improved from 0.97790 to 0.97850, saving model to ./saved_models\n",
      "INFO:tensorflow:Assets written to: ./saved_models/assets\n",
      "625/625 [==============================] - 2s 4ms/step - loss: 0.0678 - accuracy: 0.9750 - val_loss: 0.0586 - val_accuracy: 0.9785\n",
      "Epoch 6/50\n",
      "613/625 [============================>.] - ETA: 0s - loss: 0.0637 - accuracy: 0.9770\n",
      "Epoch 00006: val_accuracy improved from 0.97850 to 0.97905, saving model to ./saved_models\n",
      "INFO:tensorflow:Assets written to: ./saved_models/assets\n",
      "625/625 [==============================] - 2s 3ms/step - loss: 0.0639 - accuracy: 0.9767 - val_loss: 0.0584 - val_accuracy: 0.9790\n",
      "Epoch 7/50\n",
      "587/625 [===========================>..] - ETA: 0s - loss: 0.0644 - accuracy: 0.9772\n",
      "Epoch 00007: val_accuracy improved from 0.97905 to 0.98005, saving model to ./saved_models\n",
      "INFO:tensorflow:Assets written to: ./saved_models/assets\n",
      "625/625 [==============================] - 2s 3ms/step - loss: 0.0640 - accuracy: 0.9771 - val_loss: 0.0560 - val_accuracy: 0.9801\n",
      "Epoch 8/50\n",
      "591/625 [===========================>..] - ETA: 0s - loss: 0.0636 - accuracy: 0.9784\n",
      "Epoch 00008: val_accuracy did not improve from 0.98005\n",
      "625/625 [==============================] - 1s 2ms/step - loss: 0.0635 - accuracy: 0.9785 - val_loss: 0.0567 - val_accuracy: 0.9794\n",
      "Epoch 9/50\n",
      "588/625 [===========================>..] - ETA: 0s - loss: 0.0608 - accuracy: 0.9781\n",
      "Epoch 00009: val_accuracy did not improve from 0.98005\n",
      "625/625 [==============================] - 1s 2ms/step - loss: 0.0614 - accuracy: 0.9774 - val_loss: 0.0559 - val_accuracy: 0.9800\n",
      "Epoch 10/50\n",
      "623/625 [============================>.] - ETA: 0s - loss: 0.0589 - accuracy: 0.9802\n",
      "Epoch 00010: val_accuracy did not improve from 0.98005\n",
      "625/625 [==============================] - 1s 2ms/step - loss: 0.0589 - accuracy: 0.9802 - val_loss: 0.0578 - val_accuracy: 0.9798\n",
      "Epoch 11/50\n",
      "582/625 [==========================>...] - ETA: 0s - loss: 0.0589 - accuracy: 0.9791\n",
      "Epoch 00011: val_accuracy improved from 0.98005 to 0.98080, saving model to ./saved_models\n",
      "INFO:tensorflow:Assets written to: ./saved_models/assets\n",
      "625/625 [==============================] - 2s 3ms/step - loss: 0.0586 - accuracy: 0.9790 - val_loss: 0.0550 - val_accuracy: 0.9808\n",
      "Epoch 12/50\n",
      "622/625 [============================>.] - ETA: 0s - loss: 0.0592 - accuracy: 0.9794\n",
      "Epoch 00012: val_accuracy did not improve from 0.98080\n",
      "625/625 [==============================] - 1s 2ms/step - loss: 0.0592 - accuracy: 0.9794 - val_loss: 0.0565 - val_accuracy: 0.9793\n",
      "Epoch 13/50\n",
      "574/625 [==========================>...] - ETA: 0s - loss: 0.0549 - accuracy: 0.9800\n",
      "Epoch 00013: val_accuracy improved from 0.98080 to 0.98145, saving model to ./saved_models\n",
      "INFO:tensorflow:Assets written to: ./saved_models/assets\n",
      "625/625 [==============================] - 2s 3ms/step - loss: 0.0552 - accuracy: 0.9801 - val_loss: 0.0524 - val_accuracy: 0.9815\n",
      "Epoch 14/50\n",
      "614/625 [============================>.] - ETA: 0s - loss: 0.0566 - accuracy: 0.9817\n",
      "Epoch 00014: val_accuracy did not improve from 0.98145\n",
      "625/625 [==============================] - 1s 2ms/step - loss: 0.0569 - accuracy: 0.9815 - val_loss: 0.0547 - val_accuracy: 0.9801\n",
      "Epoch 15/50\n",
      "621/625 [============================>.] - ETA: 0s - loss: 0.0577 - accuracy: 0.9796\n",
      "Epoch 00015: val_accuracy did not improve from 0.98145\n",
      "625/625 [==============================] - 1s 2ms/step - loss: 0.0576 - accuracy: 0.9796 - val_loss: 0.0582 - val_accuracy: 0.9789\n",
      "Epoch 16/50\n",
      "584/625 [===========================>..] - ETA: 0s - loss: 0.0539 - accuracy: 0.9815\n",
      "Epoch 00016: val_accuracy did not improve from 0.98145\n",
      "625/625 [==============================] - 2s 3ms/step - loss: 0.0535 - accuracy: 0.9817 - val_loss: 0.0692 - val_accuracy: 0.9762\n",
      "Epoch 17/50\n",
      "593/625 [===========================>..] - ETA: 0s - loss: 0.0554 - accuracy: 0.9802\n",
      "Epoch 00017: val_accuracy improved from 0.98145 to 0.98190, saving model to ./saved_models\n",
      "INFO:tensorflow:Assets written to: ./saved_models/assets\n",
      "625/625 [==============================] - 2s 4ms/step - loss: 0.0557 - accuracy: 0.9802 - val_loss: 0.0515 - val_accuracy: 0.9819\n",
      "Epoch 18/50\n",
      "575/625 [==========================>...] - ETA: 0s - loss: 0.0541 - accuracy: 0.9799\n",
      "Epoch 00018: val_accuracy improved from 0.98190 to 0.98245, saving model to ./saved_models\n",
      "INFO:tensorflow:Assets written to: ./saved_models/assets\n",
      "625/625 [==============================] - 2s 3ms/step - loss: 0.0549 - accuracy: 0.9796 - val_loss: 0.0501 - val_accuracy: 0.9825\n",
      "Epoch 19/50\n",
      "600/625 [===========================>..] - ETA: 0s - loss: 0.0566 - accuracy: 0.9791\n",
      "Epoch 00019: val_accuracy did not improve from 0.98245\n",
      "625/625 [==============================] - 2s 3ms/step - loss: 0.0570 - accuracy: 0.9792 - val_loss: 0.0505 - val_accuracy: 0.9818\n",
      "Epoch 20/50\n",
      "623/625 [============================>.] - ETA: 0s - loss: 0.0519 - accuracy: 0.9825\n",
      "Epoch 00020: val_accuracy did not improve from 0.98245\n",
      "625/625 [==============================] - 2s 3ms/step - loss: 0.0519 - accuracy: 0.9826 - val_loss: 0.0784 - val_accuracy: 0.9729\n",
      "Epoch 21/50\n",
      "594/625 [===========================>..] - ETA: 0s - loss: 0.0516 - accuracy: 0.9831\n",
      "Epoch 00021: val_accuracy did not improve from 0.98245\n",
      "625/625 [==============================] - 2s 2ms/step - loss: 0.0533 - accuracy: 0.9827 - val_loss: 0.0566 - val_accuracy: 0.9799\n",
      "Epoch 22/50\n",
      "607/625 [============================>.] - ETA: 0s - loss: 0.0503 - accuracy: 0.9819\n",
      "Epoch 00022: val_accuracy did not improve from 0.98245\n",
      "625/625 [==============================] - 2s 3ms/step - loss: 0.0503 - accuracy: 0.9819 - val_loss: 0.0503 - val_accuracy: 0.9815\n"
     ]
    },
    {
     "name": "stdout",
     "output_type": "stream",
     "text": [
      "Epoch 23/50\n",
      "593/625 [===========================>..] - ETA: 0s - loss: 0.0537 - accuracy: 0.9805\n",
      "Epoch 00023: val_accuracy did not improve from 0.98245\n",
      "625/625 [==============================] - 2s 3ms/step - loss: 0.0534 - accuracy: 0.9805 - val_loss: 0.0524 - val_accuracy: 0.9822\n",
      "Epoch 24/50\n",
      "586/625 [===========================>..] - ETA: 0s - loss: 0.0507 - accuracy: 0.9817\n",
      "Epoch 00024: val_accuracy did not improve from 0.98245\n",
      "625/625 [==============================] - 1s 2ms/step - loss: 0.0507 - accuracy: 0.9820 - val_loss: 0.0484 - val_accuracy: 0.9820\n",
      "Epoch 25/50\n",
      "600/625 [===========================>..] - ETA: 0s - loss: 0.0503 - accuracy: 0.9827\n",
      "Epoch 00025: val_accuracy improved from 0.98245 to 0.98265, saving model to ./saved_models\n",
      "INFO:tensorflow:Assets written to: ./saved_models/assets\n",
      "625/625 [==============================] - 2s 4ms/step - loss: 0.0501 - accuracy: 0.9827 - val_loss: 0.0502 - val_accuracy: 0.9826\n",
      "Epoch 26/50\n",
      "625/625 [==============================] - ETA: 0s - loss: 0.0492 - accuracy: 0.9829\n",
      "Epoch 00026: val_accuracy did not improve from 0.98265\n",
      "625/625 [==============================] - 1s 2ms/step - loss: 0.0492 - accuracy: 0.9829 - val_loss: 0.0518 - val_accuracy: 0.9821\n",
      "Epoch 27/50\n",
      "593/625 [===========================>..] - ETA: 0s - loss: 0.0467 - accuracy: 0.9840\n",
      "Epoch 00027: val_accuracy did not improve from 0.98265\n",
      "625/625 [==============================] - 1s 2ms/step - loss: 0.0477 - accuracy: 0.9838 - val_loss: 0.0558 - val_accuracy: 0.9802\n",
      "Epoch 28/50\n",
      "607/625 [============================>.] - ETA: 0s - loss: 0.0464 - accuracy: 0.9840\n",
      "Epoch 00028: val_accuracy did not improve from 0.98265\n",
      "625/625 [==============================] - 1s 2ms/step - loss: 0.0463 - accuracy: 0.9841 - val_loss: 0.0535 - val_accuracy: 0.9804\n",
      "Epoch 29/50\n",
      "576/625 [==========================>...] - ETA: 0s - loss: 0.0496 - accuracy: 0.9818\n",
      "Epoch 00029: val_accuracy did not improve from 0.98265\n",
      "625/625 [==============================] - 1s 2ms/step - loss: 0.0480 - accuracy: 0.9826 - val_loss: 0.0741 - val_accuracy: 0.9772\n",
      "Epoch 30/50\n",
      "606/625 [============================>.] - ETA: 0s - loss: 0.0460 - accuracy: 0.9833\n",
      "Epoch 00030: val_accuracy did not improve from 0.98265\n",
      "625/625 [==============================] - 1s 2ms/step - loss: 0.0467 - accuracy: 0.9831 - val_loss: 0.0487 - val_accuracy: 0.9819\n",
      "Epoch 31/50\n",
      "620/625 [============================>.] - ETA: 0s - loss: 0.0488 - accuracy: 0.9835\n",
      "Epoch 00031: val_accuracy did not improve from 0.98265\n",
      "625/625 [==============================] - 2s 2ms/step - loss: 0.0489 - accuracy: 0.9834 - val_loss: 0.0540 - val_accuracy: 0.9807\n",
      "Epoch 32/50\n",
      "614/625 [============================>.] - ETA: 0s - loss: 0.0490 - accuracy: 0.9835\n",
      "Epoch 00032: val_accuracy improved from 0.98265 to 0.98275, saving model to ./saved_models\n",
      "INFO:tensorflow:Assets written to: ./saved_models/assets\n",
      "625/625 [==============================] - 2s 3ms/step - loss: 0.0493 - accuracy: 0.9834 - val_loss: 0.0477 - val_accuracy: 0.9827\n",
      "Epoch 33/50\n",
      "619/625 [============================>.] - ETA: 0s - loss: 0.0461 - accuracy: 0.9828\n",
      "Epoch 00033: val_accuracy improved from 0.98275 to 0.98285, saving model to ./saved_models\n",
      "INFO:tensorflow:Assets written to: ./saved_models/assets\n",
      "625/625 [==============================] - 2s 3ms/step - loss: 0.0461 - accuracy: 0.9829 - val_loss: 0.0481 - val_accuracy: 0.9829\n",
      "Epoch 34/50\n",
      "625/625 [==============================] - ETA: 0s - loss: 0.0467 - accuracy: 0.9818\n",
      "Epoch 00034: val_accuracy did not improve from 0.98285\n",
      "625/625 [==============================] - 1s 2ms/step - loss: 0.0467 - accuracy: 0.9818 - val_loss: 0.0497 - val_accuracy: 0.9825\n",
      "Epoch 35/50\n",
      "616/625 [============================>.] - ETA: 0s - loss: 0.0440 - accuracy: 0.9852\n",
      "Epoch 00035: val_accuracy did not improve from 0.98285\n",
      "625/625 [==============================] - 1s 2ms/step - loss: 0.0437 - accuracy: 0.9852 - val_loss: 0.0514 - val_accuracy: 0.9811\n",
      "Epoch 36/50\n",
      "601/625 [===========================>..] - ETA: 0s - loss: 0.0451 - accuracy: 0.9842\n",
      "Epoch 00036: val_accuracy did not improve from 0.98285\n",
      "625/625 [==============================] - 1s 2ms/step - loss: 0.0459 - accuracy: 0.9839 - val_loss: 0.0470 - val_accuracy: 0.9829\n",
      "Epoch 37/50\n",
      "606/625 [============================>.] - ETA: 0s - loss: 0.0434 - accuracy: 0.9845\n",
      "Epoch 00037: val_accuracy improved from 0.98285 to 0.98330, saving model to ./saved_models\n",
      "INFO:tensorflow:Assets written to: ./saved_models/assets\n",
      "625/625 [==============================] - 2s 3ms/step - loss: 0.0444 - accuracy: 0.9844 - val_loss: 0.0471 - val_accuracy: 0.9833\n",
      "Epoch 38/50\n",
      "595/625 [===========================>..] - ETA: 0s - loss: 0.0426 - accuracy: 0.9859\n",
      "Epoch 00038: val_accuracy did not improve from 0.98330\n",
      "625/625 [==============================] - 1s 2ms/step - loss: 0.0434 - accuracy: 0.9854 - val_loss: 0.0499 - val_accuracy: 0.9823\n",
      "Epoch 39/50\n",
      "613/625 [============================>.] - ETA: 0s - loss: 0.0451 - accuracy: 0.9828\n",
      "Epoch 00039: val_accuracy did not improve from 0.98330\n",
      "625/625 [==============================] - 1s 2ms/step - loss: 0.0448 - accuracy: 0.9828 - val_loss: 0.0480 - val_accuracy: 0.9830\n",
      "Epoch 40/50\n",
      "609/625 [============================>.] - ETA: 0s - loss: 0.0469 - accuracy: 0.9844\n",
      "Epoch 00040: val_accuracy did not improve from 0.98330\n",
      "625/625 [==============================] - 1s 2ms/step - loss: 0.0460 - accuracy: 0.9847 - val_loss: 0.0497 - val_accuracy: 0.9829\n",
      "Epoch 41/50\n",
      "604/625 [===========================>..] - ETA: 0s - loss: 0.0404 - accuracy: 0.9855\n",
      "Epoch 00041: val_accuracy did not improve from 0.98330\n",
      "625/625 [==============================] - 1s 2ms/step - loss: 0.0412 - accuracy: 0.9848 - val_loss: 0.0536 - val_accuracy: 0.9815\n",
      "Epoch 42/50\n",
      "603/625 [===========================>..] - ETA: 0s - loss: 0.0456 - accuracy: 0.9845\n",
      "Epoch 00042: val_accuracy did not improve from 0.98330\n",
      "625/625 [==============================] - 1s 2ms/step - loss: 0.0448 - accuracy: 0.9848 - val_loss: 0.0630 - val_accuracy: 0.9794\n",
      "Epoch 43/50\n",
      "589/625 [===========================>..] - ETA: 0s - loss: 0.0447 - accuracy: 0.9850\n",
      "Epoch 00043: val_accuracy did not improve from 0.98330\n",
      "625/625 [==============================] - 1s 2ms/step - loss: 0.0448 - accuracy: 0.9852 - val_loss: 0.0504 - val_accuracy: 0.9814\n",
      "Epoch 44/50\n",
      "601/625 [===========================>..] - ETA: 0s - loss: 0.0421 - accuracy: 0.9846\n",
      "Epoch 00044: val_accuracy did not improve from 0.98330\n",
      "625/625 [==============================] - 1s 2ms/step - loss: 0.0429 - accuracy: 0.9843 - val_loss: 0.0486 - val_accuracy: 0.9826\n",
      "Epoch 45/50\n",
      "594/625 [===========================>..] - ETA: 0s - loss: 0.0408 - accuracy: 0.9861\n",
      "Epoch 00045: val_accuracy did not improve from 0.98330\n",
      "625/625 [==============================] - 1s 2ms/step - loss: 0.0404 - accuracy: 0.9863 - val_loss: 0.0581 - val_accuracy: 0.9826\n",
      "Epoch 46/50\n",
      "584/625 [===========================>..] - ETA: 0s - loss: 0.0412 - accuracy: 0.9849\n",
      "Epoch 00046: val_accuracy did not improve from 0.98330\n",
      "625/625 [==============================] - 1s 2ms/step - loss: 0.0419 - accuracy: 0.9849 - val_loss: 0.0464 - val_accuracy: 0.9831\n",
      "Epoch 47/50\n",
      "610/625 [============================>.] - ETA: 0s - loss: 0.0410 - accuracy: 0.9860\n",
      "Epoch 00047: val_accuracy improved from 0.98330 to 0.98345, saving model to ./saved_models\n",
      "INFO:tensorflow:Assets written to: ./saved_models/assets\n",
      "625/625 [==============================] - 2s 4ms/step - loss: 0.0402 - accuracy: 0.9863 - val_loss: 0.0509 - val_accuracy: 0.9834\n",
      "Epoch 48/50\n",
      "583/625 [==========================>...] - ETA: 0s - loss: 0.0414 - accuracy: 0.9862\n",
      "Epoch 00048: val_accuracy improved from 0.98345 to 0.98360, saving model to ./saved_models\n",
      "INFO:tensorflow:Assets written to: ./saved_models/assets\n",
      "625/625 [==============================] - 2s 3ms/step - loss: 0.0408 - accuracy: 0.9863 - val_loss: 0.0472 - val_accuracy: 0.9836\n",
      "Epoch 49/50\n",
      "618/625 [============================>.] - ETA: 0s - loss: 0.0409 - accuracy: 0.9858\n",
      "Epoch 00049: val_accuracy did not improve from 0.98360\n",
      "625/625 [==============================] - 1s 2ms/step - loss: 0.0411 - accuracy: 0.9859 - val_loss: 0.0665 - val_accuracy: 0.9786\n"
     ]
    },
    {
     "name": "stdout",
     "output_type": "stream",
     "text": [
      "Epoch 50/50\n",
      "604/625 [===========================>..] - ETA: 0s - loss: 0.0408 - accuracy: 0.9848\n",
      "Epoch 00050: val_accuracy did not improve from 0.98360\n",
      "625/625 [==============================] - 1s 2ms/step - loss: 0.0406 - accuracy: 0.9848 - val_loss: 0.0520 - val_accuracy: 0.9827\n"
     ]
    }
   ],
   "source": [
    "from tensorflow.keras.models import Sequential\n",
    "from tensorflow.keras.layers import Dense, Dropout\n",
    "from tensorflow.keras.optimizers import RMSprop, Adam\n",
    "from tensorflow.keras.callbacks import ModelCheckpoint\n",
    "from tensorflow.keras.models import load_model\n",
    "\n",
    "\n",
    "batch_size = 16\n",
    "epochs = 50\n",
    "\n",
    "simple_nn = Sequential()\n",
    "simple_nn.add(Dense(150, activation='relu', input_shape=(60,)))\n",
    "simple_nn.add(Dropout(0.2))\n",
    "simple_nn.add(Dense(100, activation='relu'))\n",
    "simple_nn.add(Dropout(0.2))\n",
    "simple_nn.add(Dense(1, activation='sigmoid'))\n",
    "\n",
    "simple_nn.summary()\n",
    "\n",
    "simple_nn.compile(loss='binary_crossentropy',\n",
    "              optimizer=Adam(),\n",
    "              metrics=['accuracy'])\n",
    "\n",
    "checkpoint = ModelCheckpoint('./saved_models', monitor = 'val_accuracy', verbose = 1, save_best_only=True)\n",
    "history = simple_nn.fit(train_features_selected.todense(), y_train,\n",
    "                    batch_size=batch_size,\n",
    "                    epochs=epochs,\n",
    "                    verbose=1,\n",
    "                    callbacks = [checkpoint],\n",
    "                    validation_data=(test_features_selected.todense(), y_test))\n",
    "\n",
    "simple_nn = load_model('./saved_models')\n"
   ]
  },
  {
   "cell_type": "code",
   "execution_count": 24,
   "metadata": {},
   "outputs": [
    {
     "name": "stdout",
     "output_type": "stream",
     "text": [
      "F1: 0.984 | Pr: 0.982 | Re: 0.987 | AUC: 0.998 | Accuracy: 0.984 \n",
      "\n"
     ]
    }
   ],
   "source": [
    "y_pred_prob = simple_nn.predict(test_features_selected.todense())\n",
    "print_model_metrics(y_test, y_pred_prob)"
   ]
  },
  {
   "cell_type": "code",
   "execution_count": 25,
   "metadata": {},
   "outputs": [
    {
     "name": "stdout",
     "output_type": "stream",
     "text": [
      "Training LR\n",
      "Training SVM\n",
      "Training NB\n",
      "Training KNN\n",
      "Training RF\n",
      "Training XGB\n",
      "F1: 0.985 | Pr: 0.985 | Re: 0.985 | AUC: 0.998 | Accuracy: 0.985 \n",
      "\n"
     ]
    }
   ],
   "source": [
    "from sklearn.ensemble import RandomForestClassifier\n",
    "from sklearn.neighbors import KNeighborsClassifier\n",
    "from sklearn.naive_bayes import MultinomialNB\n",
    "from xgboost import XGBClassifier\n",
    "from sklearn.svm import SVC\n",
    "from sklearn.linear_model import SGDClassifier\n",
    "\n",
    "lr = SGDClassifier(loss = 'log', alpha = 0.1, penalty = 'l2', l1_ratio = 0.5)\n",
    "svm = SVC(C = 1, kernel = 'rbf', probability = True)\n",
    "nb = MultinomialNB(alpha = 10000, class_prior = [0.5, 0.5])\n",
    "knn = KNeighborsClassifier(n_neighbors = 31, weights = 'distance', n_jobs = -1)\n",
    "rf = RandomForestClassifier(n_estimators = 500, min_samples_split = 2, max_depth = 15,  n_jobs = -1)\n",
    "xgb = XGBClassifier(n_estimators = 100, learning_rate = 0.3, max_depth = 1, n_jobs = -1)\n",
    "\n",
    "model_dict = dict(zip(['LR', 'SVM', 'NB', 'KNN', 'RF', 'XGB'], [lr, svm, nb, knn, rf, xgb]))\n",
    "\n",
    "for model_name, model in model_dict.items():\n",
    "    print('Training {}'.format(model_name))\n",
    "    model.fit(train_features_selected, y_train)\n",
    "\n",
    "model_weights = {'KNN': 0.7866810233035141,\n",
    "                 'LR': 0.8036572275670447,\n",
    "                 'NB': 0.9102009774357307,\n",
    "                 'RF': 0.1559824350958057,\n",
    "                 'SVM': 0.9355079606348642,\n",
    "                 'XGB': 0.33469066125332436,\n",
    "                 'simple_nn': 0.000545264707939086}\n",
    "\n",
    "\n",
    "y_pred_prob = 0\n",
    "\n",
    "for model_name, model in model_dict.items():\n",
    "    y_pred_prob += (model.predict_proba(test_features_selected)[:,1] * model_weights[model_name])\n",
    "\n",
    "y_pred_prob += (simple_nn.predict(test_features_selected.todense()).ravel() * model_weights['simple_nn'])\n",
    "y_pred_prob /= sum(model_weights.values())\n",
    "\n",
    "print_model_metrics(y_test, y_pred_prob)\n"
   ]
  },
  {
   "cell_type": "code",
   "execution_count": 26,
   "metadata": {},
   "outputs": [],
   "source": [
    "def run_voting_clf(model_weights):\n",
    "    #result_list, model_weights = data\n",
    "    \n",
    "    y_pred_prob = 0\n",
    "\n",
    "    for model_name, model in model_dict.items():\n",
    "        y_pred_prob += (model.predict_proba(test_features_selected)[:,1] * model_weights[model_name])\n",
    "\n",
    "    #y_pred_prob += (simple_nn.get_preds(ds_type = DatasetType.Valid)[0].numpy()[:,0] * model_weights['simple_nn'])\n",
    "    y_pred_prob += (simple_nn.predict(test_features_selected.todense()).ravel() * model_weights['simple_nn'])\n",
    "    y_pred_prob /= sum(model_weights.values())\n",
    "    f1 = print_model_metrics(y_test, y_pred_prob, return_metrics = True, verbose = 0)[0]\n",
    "    return {'loss' : -f1, 'status' : STATUS_OK}\n"
   ]
  },
  {
   "cell_type": "code",
   "execution_count": 27,
   "metadata": {},
   "outputs": [
    {
     "name": "stdout",
     "output_type": "stream",
     "text": [
      "100%|██████████| 100/100 [27:58<00:00, 16.79s/trial, best loss: -0.9860367348981532]\n"
     ]
    }
   ],
   "source": [
    "from hyperopt import fmin, tpe, hp, STATUS_OK, Trials\n",
    "\n",
    "trials = Trials()\n",
    "model_weights = fmin(run_voting_clf,\n",
    "    space= {\n",
    "        'LR' : hp.uniform('LR', 0, 1),\n",
    "        'SVM' : hp.uniform('SVM', 0, 1),\n",
    "        'NB' : hp.uniform('NB', 0, 1),\n",
    "        'KNN' : hp.uniform('KNN', 0, 1),\n",
    "        'RF' : hp.uniform('RF', 0, 1),\n",
    "        'XGB' : hp.uniform('XGB', 0, 1),\n",
    "        'simple_nn' : hp.uniform('simple_nn', 0, 1),\n",
    "\n",
    "\n",
    "    },\n",
    "    algo=tpe.suggest,\n",
    "    max_evals=100,\n",
    "    trials = trials)"
   ]
  },
  {
   "cell_type": "code",
   "execution_count": 28,
   "metadata": {},
   "outputs": [
    {
     "data": {
      "text/plain": [
       "{'KNN': 0.5804790416002688,\n",
       " 'LR': 5.05551901532203e-05,\n",
       " 'NB': 0.008970931024758932,\n",
       " 'RF': 0.3043966543598309,\n",
       " 'SVM': 0.2143509108920118,\n",
       " 'XGB': 0.004287828597133725,\n",
       " 'simple_nn': 0.559584081384372}"
      ]
     },
     "execution_count": 28,
     "metadata": {},
     "output_type": "execute_result"
    }
   ],
   "source": [
    "model_weights"
   ]
  },
  {
   "cell_type": "code",
   "execution_count": 29,
   "metadata": {},
   "outputs": [
    {
     "name": "stdout",
     "output_type": "stream",
     "text": [
      "F1: 0.986 | Pr: 0.986 | Re: 0.986 | AUC: 0.999 | Accuracy: 0.986 \n",
      "\n"
     ]
    },
    {
     "data": {
      "image/png": "[encoded data removed]",
      "text/plain": [
       "<Figure size 432x288 with 2 Axes>"
      ]
     },
     "metadata": {},
     "output_type": "display_data"
    }
   ],
   "source": [
    "y_pred_prob = 0\n",
    "\n",
    "for model_name, model in model_dict.items():\n",
    "    y_pred_prob += (model.predict_proba(test_features_selected)[:,1] * model_weights[model_name])\n",
    "\n",
    "y_pred_prob += (simple_nn.predict(test_features_selected.todense()).ravel() * model_weights['simple_nn'])\n",
    "y_pred_prob /= sum(model_weights.values())\n",
    "\n",
    "print_model_metrics(y_test, y_pred_prob, confusion = True)"
   ]
  },
  {
   "cell_type": "code",
   "execution_count": 30,
   "metadata": {},
   "outputs": [
    {
     "name": "stdout",
     "output_type": "stream",
     "text": [
      "Title : Cellphone Abilities That Go Untapped\n",
      "Label : not-clickbait\n",
      "Predicted Probability : 0.9667401766684104\n",
      "----------\n",
      "Title : What Is Facebook Actually Worth?\n",
      "Label : not-clickbait\n",
      "Predicted Probability : 0.9681435999530588\n",
      "----------\n",
      "Title : Candace Parker Is Putting Family First\n",
      "Label : not-clickbait\n",
      "Predicted Probability : 0.9693334530466561\n",
      "----------\n",
      "Title : Big Movie Studios May Be Mightier Than Ever\n",
      "Label : not-clickbait\n",
      "Predicted Probability : 0.9729300437918226\n",
      "----------\n",
      "Title : No Snickering: That Road Sign Means Something Else\n",
      "Label : not-clickbait\n",
      "Predicted Probability : 0.9738313451970713\n",
      "----------\n",
      "Title : My Swings With Annika\n",
      "Label : not-clickbait\n",
      "Predicted Probability : 0.9773002986635099\n",
      "----------\n",
      "Title : If You Want to Text Obama, Do It Before Jan. 20\n",
      "Label : not-clickbait\n",
      "Predicted Probability : 0.9844523781568715\n",
      "----------\n",
      "Title : A Little Rugby With Your Cross-Dressing?\n",
      "Label : not-clickbait\n",
      "Predicted Probability : 0.9862391112441472\n",
      "----------\n",
      "Title : What Do Dreams Mean? Whatever Your Bias Says\n",
      "Label : not-clickbait\n",
      "Predicted Probability : 0.9911916702272413\n",
      "----------\n",
      "Title : Darwinism Must Die So That Evolution May Live\n",
      "Label : not-clickbait\n",
      "Predicted Probability : 0.9923681460680597\n",
      "----------\n"
     ]
    }
   ],
   "source": [
    "precision, recall, threshold = precision_recall_curve(y_test, y_pred_prob, pos_label = 1)\n",
    "    \n",
    "#Find the threshold value that gives the best F1 Score\n",
    "best_f1_index =np.argmax([calc_f1(p_r) for p_r in zip(precision, recall)])\n",
    "best_threshold, best_precision, best_recall = threshold[best_f1_index], precision[best_f1_index], recall[best_f1_index]\n",
    "\n",
    "# Calulcate predictions based on the threshold value\n",
    "y_test_pred = np.where(y_pred_prob > best_threshold, 1, 0)\n",
    "misclassified_idx = y_test != y_test_pred\n",
    "high_confidence_indices = np.argsort(y_pred_prob[misclassified_idx])[-10:]\n",
    "\n",
    "for idx in high_confidence_indices:\n",
    "    print('Title : {}'.format(test[misclassified_idx].title.values[idx]))\n",
    "    print('Label : {}'.format(test[misclassified_idx].label.values[idx]))\n",
    "    print('Predicted Probability : {}'.format(y_pred_prob[misclassified_idx][idx]))\n",
    "    print('-' * 10)"
   ]
  },
  {
   "cell_type": "code",
   "execution_count": 31,
   "metadata": {},
   "outputs": [
    {
     "data": {
      "text/plain": [
       "array(['A Casino Rises in the Place of a Fallen Steel Giant',\n",
       "       'Museum Gunman a Longtime Foe of Government',\n",
       "       \"Southwest Airlines flight diverts due to 'rapid decompression in the cabin'\",\n",
       "       'NATO intensifies attack on Libya',\n",
       "       'Turkish Premier Reaches Out in an Important Kurdish City',\n",
       "       'Technology developed to detect fake drugs quickly',\n",
       "       \"Hugo Chavez meets Iran's Imam Khamenei\",\n",
       "       'Somalia in danger of famine',\n",
       "       'Myanmar Again Closes Trial of Dissident, Aung San Suu Kyi',\n",
       "       'Morning-after pill to be made available to 17-year-olds, U.S. federal judge rules'],\n",
       "      dtype=object)"
      ]
     },
     "execution_count": 31,
     "metadata": {},
     "output_type": "execute_result"
    }
   ],
   "source": [
    "test[test.label.values == 'not-clickbait'].sample(10).title.values"
   ]
  },
  {
   "cell_type": "markdown",
   "metadata": {},
   "source": [
    "# Tuning after Feature Selection"
   ]
  },
  {
   "cell_type": "code",
   "execution_count": null,
   "metadata": {},
   "outputs": [],
   "source": [
    "from sklearn.model_selection import GridSearchCV, PredefinedSplit\n",
    "from sklearn.metrics import make_scorer\n",
    "from scipy import sparse\n",
    "\n",
    "\n",
    "def warn(*args, **kwargs):\n",
    "    pass\n",
    "import warnings\n",
    "warnings.warn = warn\n",
    "\n",
    "\n",
    "def adjusted_f1(y_true, y_prob):\n",
    "    f1 = print_model_metrics(y_true, y_prob, verbose = 0, return_metrics = True)[0]\n",
    "    return f1\n",
    "\n",
    "score = make_scorer(adjusted_f1, greater_is_better = True, needs_proba = True)\n",
    "\n",
    "\n",
    "\n",
    "# Since we want to use a predefined Test/Val set, we'll use PredefinedSplit and pass it as the CV parameter\n",
    "# We need to merge both the datasets and label 0 for test and -1 for the train set\n",
    "\n",
    "X = sparse.vstack((train_features_selected, test_features_selected))\n",
    "test_fold = [-1 for _ in range(train_features_selected.shape[0])] + [0 for _ in range(test_features_selected.shape[0])]\n",
    "y = np.concatenate([y_train, y_test])\n",
    "ps = PredefinedSplit(test_fold)\n",
    "\n",
    "def run_grid_search(model, params, x_train, y_train):\n",
    "    grid = GridSearchCV(model, params, cv = ps, n_jobs = -1, scoring = score, verbose = 0, refit = False)\n",
    "    grid.fit(x_train, y_train)\n",
    "    return (grid.best_params_, grid.best_score_)\n",
    "\n",
    "# Run log reg n times and average the metrics\n",
    "def fit_n_times(model, x_train, y_train, x_test, y_test, n_iters = 10):\n",
    "    metrics = np.zeros(5)\n",
    "    for _ in range(n_iters):\n",
    "        model.fit(x_train, y_train)\n",
    "        y_test_prob = model.predict_proba(x_test)[:,1]\n",
    "        metrics += print_model_metrics(y_test, y_test_prob, verbose = False, return_metrics = True)\n",
    "    metrics /=10\n",
    "    print('F1: {:.3f} | Pr: {:.3f} | Re: {:.3f} | AUC: {:.3f} | Accuracy: {:.3f} \\n'.format(*metrics))\n",
    "    \n",
    "\n",
    "from sklearn.linear_model import SGDClassifier\n",
    "\n",
    "lr = SGDClassifier(loss = 'log')\n",
    "lr_params = {'alpha' : [10**(-x) for x in range(7)],\n",
    "             'penalty' : ['l1', 'l2', 'elasticnet'],\n",
    "             'l1_ratio' : [0.15, 0.25, 0.5, 0.75]}\n",
    "\n",
    "best_params, best_f1 = run_grid_search(lr, lr_params, X, y)\n",
    "\n",
    "print('LR Best Parameters : {}'.format(best_params))\n",
    "\n",
    "\n",
    "\n",
    "from sklearn.svm import SVC\n",
    "\n",
    "svm = SVC(probability = True)\n",
    "svm_params = {'C' : [10**(x) for x in range(-1,4)],\n",
    "             'kernel' : ['poly', 'rbf', 'linear'],\n",
    "             'degree' : [2, 3]}\n",
    "\n",
    "best_params, best_f1 = run_grid_search(svm, svm_params, X, y)\n",
    "\n",
    "print('SVM Best Parameters : {}'.format(best_params))\n",
    "print('Best F1 : {}'.format(best_f1))\n",
    "\n",
    "from sklearn.naive_bayes import MultinomialNB\n",
    "\n",
    "nb = MultinomialNB(class_prior = [0.5, 0.5])\n",
    "nb_params = {'alpha' : [10**(x) for x in range(6)]}\n",
    "\n",
    "\n",
    "best_params, best_f1 = run_grid_search(nb, nb_params, X, y)\n",
    "\n",
    "print('NB Best Parameters : {}'.format(best_params))\n",
    "print('Best F1 : {}'.format(best_f1))\n",
    "\n",
    "from sklearn.neighbors import KNeighborsClassifier\n",
    "\n",
    "knn = KNeighborsClassifier(n_jobs = -1)\n",
    "\n",
    "knn_params = { 'n_neighbors' : [3, 5, 7, 9, 15, 31], \n",
    "               'weights' : ['uniform', 'distance']\n",
    "}\n",
    "\n",
    "best_params, best_f1 = run_grid_search(knn, knn_params, X, y)\n",
    "print('KNN Best Parameters : {}'.format(best_params))\n",
    "\n",
    "from sklearn.ensemble import RandomForestClassifier\n",
    "\n",
    "rf = RandomForestClassifier(n_jobs = -1)\n",
    "\n",
    "rf_params = { 'n_estimators' : [10, 100, 250, 500, 1000], \n",
    "               'max_depth' : [None, 3, 7, 15],\n",
    "               'min_samples_split' : [2, 5, 15]\n",
    "}\n",
    "\n",
    "best_params, best_f1 = run_grid_search(rf, rf_params, X, y)\n",
    "\n",
    "print('RF Best Parameters : {}'.format(best_params))\n",
    "\n",
    "from xgboost import XGBClassifier\n",
    "\n",
    "xgb = XGBClassifier(n_jobs = 1)\n",
    "\n",
    "xgb_params = { 'n_estimators' : [10, 100, 200, 500], \n",
    "               'max_depth' : [1, 2, 3, 7],\n",
    "               'learning_rate' : [0.1, 0.2, 0.01, 0.3],\n",
    "               'reg_alpha' : [0, 0.1, 0.2]\n",
    "}\n",
    "\n",
    "best_params, best_f1 = run_grid_search(xgb, xgb_params, X, y)\n",
    "\n",
    "print('XGB Best Parameters : {}'.format(best_params))"
   ]
  },
  {
   "cell_type": "code",
   "execution_count": null,
   "metadata": {},
   "outputs": [],
   "source": []
  },
  {
   "cell_type": "code",
   "execution_count": null,
   "metadata": {},
   "outputs": [],
   "source": []
  },
  {
   "cell_type": "code",
   "execution_count": null,
   "metadata": {},
   "outputs": [],
   "source": []
  },
  {
   "cell_type": "code",
   "execution_count": null,
   "metadata": {},
   "outputs": [],
   "source": []
  },
  {
   "cell_type": "code",
   "execution_count": null,
   "metadata": {},
   "outputs": [],
   "source": []
  },
  {
   "cell_type": "code",
   "execution_count": null,
   "metadata": {},
   "outputs": [],
   "source": []
  },
  {
   "cell_type": "code",
   "execution_count": null,
   "metadata": {},
   "outputs": [],
   "source": []
  },
  {
   "cell_type": "code",
   "execution_count": null,
   "metadata": {},
   "outputs": [],
   "source": []
  },
  {
   "cell_type": "code",
   "execution_count": null,
   "metadata": {},
   "outputs": [],
   "source": []
  },
  {
   "cell_type": "code",
   "execution_count": null,
   "metadata": {},
   "outputs": [],
   "source": []
  },
  {
   "cell_type": "code",
   "execution_count": null,
   "metadata": {},
   "outputs": [],
   "source": []
  },
  {
   "cell_type": "code",
   "execution_count": null,
   "metadata": {},
   "outputs": [],
   "source": []
  },
  {
   "cell_type": "code",
   "execution_count": null,
   "metadata": {},
   "outputs": [],
   "source": []
  },
  {
   "cell_type": "code",
   "execution_count": null,
   "metadata": {},
   "outputs": [],
   "source": []
  }
 ],
 "metadata": {
  "kernelspec": {
   "display_name": "Python 3",
   "language": "python",
   "name": "python3"
  },
  "language_info": {
   "codemirror_mode": {
    "name": "ipython",
    "version": 3
   },
   "file_extension": ".py",
   "mimetype": "text/x-python",
   "name": "python",
   "nbconvert_exporter": "python",
   "pygments_lexer": "ipython3",
   "version": "3.7.6"
  }
 },
 "nbformat": 4,
 "nbformat_minor": 4
}
