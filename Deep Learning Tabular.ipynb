{
 "cells": [
  {
   "cell_type": "markdown",
   "metadata": {},
   "source": [
    "# Deep Learning Tabular Data"
   ]
  },
  {
   "cell_type": "code",
   "execution_count": 1,
   "metadata": {},
   "outputs": [
    {
     "name": "stdout",
     "output_type": "stream",
     "text": [
      "Starts with number....\n",
      "Clickbait Phrases....\n",
      "Clickbait re....\n",
      "Num dots....\n",
      "Text Features....\n",
      "Punctuation....\n",
      "Word ratios....\n",
      "Sentiment Scores....\n",
      "Readability Scores....\n"
     ]
    },
    {
     "data": {
      "application/vnd.jupyter.widget-view+json": {
       "model_id": "02849fe091574f6f8b4a9b1bbaa99ed6",
       "version_major": 2,
       "version_minor": 0
      },
      "text/plain": [
       "HBox(children=(FloatProgress(value=0.0, max=1001.0), HTML(value='')))"
      ]
     },
     "metadata": {},
     "output_type": "display_data"
    },
    {
     "name": "stdout",
     "output_type": "stream",
     "text": [
      "\n"
     ]
    },
    {
     "data": {
      "application/vnd.jupyter.widget-view+json": {
       "model_id": "3e577f74c6164b63bae5aa3b78b5b07f",
       "version_major": 2,
       "version_minor": 0
      },
      "text/plain": [
       "HBox(children=(FloatProgress(value=0.0, max=20000.0), HTML(value='')))"
      ]
     },
     "metadata": {},
     "output_type": "display_data"
    },
    {
     "name": "stdout",
     "output_type": "stream",
     "text": [
      "\n",
      "Glove.....\n"
     ]
    },
    {
     "data": {
      "application/vnd.jupyter.widget-view+json": {
       "model_id": "980852af28aa44d38690f3ff17403780",
       "version_major": 2,
       "version_minor": 0
      },
      "text/plain": [
       "HBox(children=(FloatProgress(value=0.0, max=1001.0), HTML(value='')))"
      ]
     },
     "metadata": {},
     "output_type": "display_data"
    },
    {
     "name": "stdout",
     "output_type": "stream",
     "text": [
      "\n"
     ]
    },
    {
     "data": {
      "application/vnd.jupyter.widget-view+json": {
       "model_id": "e0b569c5c464405f85f151cdbca33590",
       "version_major": 2,
       "version_minor": 0
      },
      "text/plain": [
       "HBox(children=(FloatProgress(value=0.0, max=20000.0), HTML(value='')))"
      ]
     },
     "metadata": {},
     "output_type": "display_data"
    },
    {
     "name": "stdout",
     "output_type": "stream",
     "text": [
      "\n",
      "DONE!\n"
     ]
    }
   ],
   "source": [
    "%matplotlib inline\n",
    "from utility_funcitons import *\n",
    "from feature_selection import *\n",
    "import pandas as pd \n",
    "import numpy as np\n",
    "\n",
    "\n",
    "train = pd.read_csv('train.csv')\n",
    "test = pd.read_csv('test.csv')\n",
    "train_features, test_features, feature_names = featurize(train, test, 'tfidf_glove')\n",
    "\n",
    "y_train = np.where(train.label.values == 'clickbait', 1, 0)\n",
    "y_test = np.where(test.label.values == 'clickbait', 1, 0)"
   ]
  },
  {
   "cell_type": "code",
   "execution_count": 5,
   "metadata": {},
   "outputs": [
    {
     "ename": "SyntaxError",
     "evalue": "invalid syntax (<ipython-input-5-b160a80dc31b>, line 12)",
     "output_type": "error",
     "traceback": [
      "\u001b[0;36m  File \u001b[0;32m\"<ipython-input-5-b160a80dc31b>\"\u001b[0;36m, line \u001b[0;32m12\u001b[0m\n\u001b[0;31m    def adjusted_f1(y_true, y_prob):/\u001b[0m\n\u001b[0m                                    ^\u001b[0m\n\u001b[0;31mSyntaxError\u001b[0m\u001b[0;31m:\u001b[0m invalid syntax\n"
     ]
    }
   ],
   "source": [
    "from sklearn.model_selection import GridSearchCV, PredefinedSplit\n",
    "from sklearn.metrics import make_scorer\n",
    "from scipy import sparse\n",
    "\n",
    "\n",
    "def warn(*args, **kwargs):\n",
    "    pass\n",
    "import warnings\n",
    "warnings.warn = warn\n",
    "\n",
    "\n",
    "def adjusted_f1(y_true, y_prob):/\n",
    "    f1 = print_model_metrics(y_true, y_prob, verbose = 0, return_metrics = True)[0]\n",
    "    return f1\n",
    "\n",
    "score = make_scorer(adjusted_f1, greater_is_better = True, needs_proba = True)\n",
    "\n",
    "X = sparse.vstack((train_features, test_features))\n",
    "test_fold = [-1 for _ in range(train_features.shape[0])] + [0 for _ in range(test_features.shape[0])]\n",
    "y = np.concatenate([y_train, y_test])\n",
    "ps = PredefinedSplit(test_fold)\n",
    "\n",
    "def run_grid_search(model, params, x_train, y_train):\n",
    "    grid = GridSearchCV(model, params, cv = ps, n_jobs = 4, scoring = score, verbose = 0, refit = False)\n",
    "    grid.fit(x_train, y_train)\n",
    "    return (grid.best_params_, grid.best_score_)\n",
    "\n",
    "\n",
    "def fit_n_times(model, x_train, y_train, x_test, y_test, n_iters = 10):\n",
    "    metrics = np.zeros(5)\n",
    "    for _ in range(n_iters):\n",
    "        model.fit(x_train, y_train)\n",
    "        y_test_prob = model.predict_proba(x_test)[:,1]\n",
    "        metrics += print_model_metrics(y_test, y_test_prob, verbose = False, return_metrics = True)\n",
    "    metrics /=10\n",
    "    print('F1: {:.3f} | Pr: {:.3f} | Re: {:.3f} | AUC: {:.3f} | Accuracy: {:.3f} \\n'.format(*metrics))\n",
    "\n"
   ]
  },
  {
   "cell_type": "code",
   "execution_count": 6,
   "metadata": {
    "scrolled": false
   },
   "outputs": [
    {
     "name": "stdout",
     "output_type": "stream",
     "text": [
      "Model: \"sequential_1\"\n",
      "_________________________________________________________________\n",
      " Layer (type)                Output Shape              Param #   \n",
      "=================================================================\n",
      " dense_3 (Dense)             (None, 150)               18000     \n",
      "                                                                 \n",
      " dropout_2 (Dropout)         (None, 150)               0         \n",
      "                                                                 \n",
      " dense_4 (Dense)             (None, 100)               15100     \n",
      "                                                                 \n",
      " dropout_3 (Dropout)         (None, 100)               0         \n",
      "                                                                 \n",
      " dense_5 (Dense)             (None, 1)                 101       \n",
      "                                                                 \n",
      "=================================================================\n",
      "Total params: 33,201\n",
      "Trainable params: 33,201\n",
      "Non-trainable params: 0\n",
      "_________________________________________________________________\n",
      "Epoch 1/40\n",
      "1/8 [==>...........................] - ETA: 2s - loss: 0.7423 - accuracy: 0.4531\n",
      "Epoch 00001: val_accuracy improved from -inf to 0.85595, saving model to ./saved_models\n",
      "INFO:tensorflow:Assets written to: ./saved_models/assets\n",
      "8/8 [==============================] - 1s 117ms/step - loss: 0.6795 - accuracy: 0.5694 - val_loss: 0.6062 - val_accuracy: 0.8559\n",
      "Epoch 2/40\n",
      "1/8 [==>...........................] - ETA: 0s - loss: 0.6304 - accuracy: 0.6875\n",
      "Epoch 00002: val_accuracy improved from 0.85595 to 0.95355, saving model to ./saved_models\n",
      "INFO:tensorflow:Assets written to: ./saved_models/assets\n",
      "8/8 [==============================] - 1s 106ms/step - loss: 0.5758 - accuracy: 0.7842 - val_loss: 0.4792 - val_accuracy: 0.9535\n",
      "Epoch 3/40\n",
      "1/8 [==>...........................] - ETA: 0s - loss: 0.5317 - accuracy: 0.8594\n",
      "Epoch 00003: val_accuracy did not improve from 0.95355\n",
      "8/8 [==============================] - 0s 31ms/step - loss: 0.4783 - accuracy: 0.8531 - val_loss: 0.3821 - val_accuracy: 0.9149\n",
      "Epoch 4/40\n",
      "1/8 [==>...........................] - ETA: 0s - loss: 0.4484 - accuracy: 0.8516\n",
      "Epoch 00004: val_accuracy improved from 0.95355 to 0.95580, saving model to ./saved_models\n",
      "INFO:tensorflow:Assets written to: ./saved_models/assets\n",
      "8/8 [==============================] - 1s 121ms/step - loss: 0.3673 - accuracy: 0.9011 - val_loss: 0.2667 - val_accuracy: 0.9558\n",
      "Epoch 5/40\n",
      "1/8 [==>...........................] - ETA: 0s - loss: 0.2845 - accuracy: 0.9141\n",
      "Epoch 00005: val_accuracy improved from 0.95580 to 0.95640, saving model to ./saved_models\n",
      "INFO:tensorflow:Assets written to: ./saved_models/assets\n",
      "8/8 [==============================] - 1s 106ms/step - loss: 0.2693 - accuracy: 0.9281 - val_loss: 0.1908 - val_accuracy: 0.9564\n",
      "Epoch 6/40\n",
      "1/8 [==>...........................] - ETA: 0s - loss: 0.2389 - accuracy: 0.9453\n",
      "Epoch 00006: val_accuracy improved from 0.95640 to 0.96630, saving model to ./saved_models\n",
      "INFO:tensorflow:Assets written to: ./saved_models/assets\n",
      "8/8 [==============================] - 1s 127ms/step - loss: 0.2089 - accuracy: 0.9371 - val_loss: 0.1388 - val_accuracy: 0.9663\n",
      "Epoch 7/40\n",
      "1/8 [==>...........................] - ETA: 0s - loss: 0.2002 - accuracy: 0.9531\n",
      "Epoch 00007: val_accuracy did not improve from 0.96630\n",
      "8/8 [==============================] - 0s 27ms/step - loss: 0.1697 - accuracy: 0.9411 - val_loss: 0.1306 - val_accuracy: 0.9603\n",
      "Epoch 8/40\n",
      "1/8 [==>...........................] - ETA: 0s - loss: 0.1167 - accuracy: 0.9609\n",
      "Epoch 00008: val_accuracy improved from 0.96630 to 0.97005, saving model to ./saved_models\n",
      "INFO:tensorflow:Assets written to: ./saved_models/assets\n",
      "8/8 [==============================] - 1s 164ms/step - loss: 0.1402 - accuracy: 0.9471 - val_loss: 0.1011 - val_accuracy: 0.9700\n",
      "Epoch 9/40\n",
      "1/8 [==>...........................] - ETA: 0s - loss: 0.1095 - accuracy: 0.9453\n",
      "Epoch 00009: val_accuracy improved from 0.97005 to 0.97220, saving model to ./saved_models\n",
      "INFO:tensorflow:Assets written to: ./saved_models/assets\n",
      "8/8 [==============================] - 1s 187ms/step - loss: 0.1190 - accuracy: 0.9590 - val_loss: 0.0908 - val_accuracy: 0.9722\n",
      "Epoch 10/40\n",
      "1/8 [==>...........................] - ETA: 0s - loss: 0.1057 - accuracy: 0.9609\n",
      "Epoch 00010: val_accuracy improved from 0.97220 to 0.97445, saving model to ./saved_models\n",
      "INFO:tensorflow:Assets written to: ./saved_models/assets\n",
      "8/8 [==============================] - 1s 151ms/step - loss: 0.1099 - accuracy: 0.9700 - val_loss: 0.0833 - val_accuracy: 0.9744\n",
      "Epoch 11/40\n",
      "1/8 [==>...........................] - ETA: 0s - loss: 0.0847 - accuracy: 0.9766\n",
      "Epoch 00011: val_accuracy did not improve from 0.97445\n",
      "8/8 [==============================] - 0s 39ms/step - loss: 0.1030 - accuracy: 0.9660 - val_loss: 0.0875 - val_accuracy: 0.9692\n",
      "Epoch 12/40\n",
      "1/8 [==>...........................] - ETA: 0s - loss: 0.0763 - accuracy: 0.9922\n",
      "Epoch 00012: val_accuracy improved from 0.97445 to 0.97700, saving model to ./saved_models\n",
      "INFO:tensorflow:Assets written to: ./saved_models/assets\n",
      "8/8 [==============================] - 1s 135ms/step - loss: 0.0880 - accuracy: 0.9730 - val_loss: 0.0726 - val_accuracy: 0.9770\n",
      "Epoch 13/40\n",
      "1/8 [==>...........................] - ETA: 0s - loss: 0.0640 - accuracy: 0.9922\n",
      "Epoch 00013: val_accuracy improved from 0.97700 to 0.97760, saving model to ./saved_models\n",
      "INFO:tensorflow:Assets written to: ./saved_models/assets\n",
      "8/8 [==============================] - 1s 122ms/step - loss: 0.0821 - accuracy: 0.9740 - val_loss: 0.0689 - val_accuracy: 0.9776\n",
      "Epoch 14/40\n",
      "1/8 [==>...........................] - ETA: 0s - loss: 0.1074 - accuracy: 0.9531\n",
      "Epoch 00014: val_accuracy did not improve from 0.97760\n",
      "8/8 [==============================] - 0s 23ms/step - loss: 0.0828 - accuracy: 0.9740 - val_loss: 0.0760 - val_accuracy: 0.9732\n",
      "Epoch 15/40\n",
      "1/8 [==>...........................] - ETA: 0s - loss: 0.0850 - accuracy: 0.9766\n",
      "Epoch 00015: val_accuracy improved from 0.97760 to 0.97835, saving model to ./saved_models\n",
      "INFO:tensorflow:Assets written to: ./saved_models/assets\n",
      "8/8 [==============================] - 1s 116ms/step - loss: 0.0716 - accuracy: 0.9750 - val_loss: 0.0643 - val_accuracy: 0.9783\n",
      "Epoch 16/40\n",
      "1/8 [==>...........................] - ETA: 0s - loss: 0.0739 - accuracy: 0.9766\n",
      "Epoch 00016: val_accuracy improved from 0.97835 to 0.97875, saving model to ./saved_models\n",
      "INFO:tensorflow:Assets written to: ./saved_models/assets\n",
      "8/8 [==============================] - 1s 104ms/step - loss: 0.0637 - accuracy: 0.9760 - val_loss: 0.0625 - val_accuracy: 0.9787\n",
      "Epoch 17/40\n",
      "1/8 [==>...........................] - ETA: 0s - loss: 0.0578 - accuracy: 0.9922\n",
      "Epoch 00017: val_accuracy did not improve from 0.97875\n",
      "8/8 [==============================] - 0s 29ms/step - loss: 0.0696 - accuracy: 0.9770 - val_loss: 0.0647 - val_accuracy: 0.9773\n",
      "Epoch 18/40\n",
      "1/8 [==>...........................] - ETA: 0s - loss: 0.0664 - accuracy: 0.9609\n",
      "Epoch 00018: val_accuracy improved from 0.97875 to 0.97995, saving model to ./saved_models\n",
      "INFO:tensorflow:Assets written to: ./saved_models/assets\n",
      "8/8 [==============================] - 1s 113ms/step - loss: 0.0618 - accuracy: 0.9730 - val_loss: 0.0577 - val_accuracy: 0.9800\n",
      "Epoch 19/40\n",
      "1/8 [==>...........................] - ETA: 0s - loss: 0.0693 - accuracy: 0.9844\n",
      "Epoch 00019: val_accuracy improved from 0.97995 to 0.98030, saving model to ./saved_models\n",
      "INFO:tensorflow:Assets written to: ./saved_models/assets\n",
      "8/8 [==============================] - 1s 115ms/step - loss: 0.0600 - accuracy: 0.9820 - val_loss: 0.0574 - val_accuracy: 0.9803\n",
      "Epoch 20/40\n",
      "1/8 [==>...........................] - ETA: 0s - loss: 0.0474 - accuracy: 0.9844\n",
      "Epoch 00020: val_accuracy did not improve from 0.98030\n",
      "8/8 [==============================] - 0s 23ms/step - loss: 0.0623 - accuracy: 0.9830 - val_loss: 0.0555 - val_accuracy: 0.9801\n",
      "Epoch 21/40\n",
      "1/8 [==>...........................] - ETA: 0s - loss: 0.0565 - accuracy: 0.9922\n",
      "Epoch 00021: val_accuracy improved from 0.98030 to 0.98055, saving model to ./saved_models\n",
      "INFO:tensorflow:Assets written to: ./saved_models/assets\n",
      "8/8 [==============================] - 1s 123ms/step - loss: 0.0564 - accuracy: 0.9820 - val_loss: 0.0557 - val_accuracy: 0.9805\n"
     ]
    },
    {
     "name": "stdout",
     "output_type": "stream",
     "text": [
      "Epoch 22/40\n",
      "1/8 [==>...........................] - ETA: 0s - loss: 0.0525 - accuracy: 0.9766\n",
      "Epoch 00022: val_accuracy did not improve from 0.98055\n",
      "8/8 [==============================] - 0s 23ms/step - loss: 0.0501 - accuracy: 0.9810 - val_loss: 0.0591 - val_accuracy: 0.9791\n",
      "Epoch 23/40\n",
      "1/8 [==>...........................] - ETA: 0s - loss: 0.0361 - accuracy: 0.9844\n",
      "Epoch 00023: val_accuracy did not improve from 0.98055\n",
      "8/8 [==============================] - 0s 23ms/step - loss: 0.0527 - accuracy: 0.9800 - val_loss: 0.0578 - val_accuracy: 0.9790\n",
      "Epoch 24/40\n",
      "1/8 [==>...........................] - ETA: 0s - loss: 0.1000 - accuracy: 0.9609\n",
      "Epoch 00024: val_accuracy improved from 0.98055 to 0.98105, saving model to ./saved_models\n",
      "INFO:tensorflow:Assets written to: ./saved_models/assets\n",
      "8/8 [==============================] - 1s 118ms/step - loss: 0.0445 - accuracy: 0.9870 - val_loss: 0.0524 - val_accuracy: 0.9811\n",
      "Epoch 25/40\n",
      "1/8 [==>...........................] - ETA: 0s - loss: 0.0791 - accuracy: 0.9688\n",
      "Epoch 00025: val_accuracy did not improve from 0.98105\n",
      "8/8 [==============================] - 0s 25ms/step - loss: 0.0483 - accuracy: 0.9850 - val_loss: 0.0542 - val_accuracy: 0.9809\n",
      "Epoch 26/40\n",
      "1/8 [==>...........................] - ETA: 0s - loss: 0.0265 - accuracy: 0.9922\n",
      "Epoch 00026: val_accuracy did not improve from 0.98105\n",
      "8/8 [==============================] - 0s 22ms/step - loss: 0.0433 - accuracy: 0.9850 - val_loss: 0.0603 - val_accuracy: 0.9783\n",
      "Epoch 27/40\n",
      "1/8 [==>...........................] - ETA: 0s - loss: 0.0707 - accuracy: 0.9766\n",
      "Epoch 00027: val_accuracy did not improve from 0.98105\n",
      "8/8 [==============================] - 0s 24ms/step - loss: 0.0530 - accuracy: 0.9820 - val_loss: 0.0597 - val_accuracy: 0.9780\n",
      "Epoch 28/40\n",
      "1/8 [==>...........................] - ETA: 0s - loss: 0.0363 - accuracy: 0.9766\n",
      "Epoch 00028: val_accuracy did not improve from 0.98105\n",
      "8/8 [==============================] - 0s 23ms/step - loss: 0.0619 - accuracy: 0.9750 - val_loss: 0.0759 - val_accuracy: 0.9722\n",
      "Epoch 29/40\n",
      "1/8 [==>...........................] - ETA: 0s - loss: 0.0371 - accuracy: 0.9922\n",
      "Epoch 00029: val_accuracy did not improve from 0.98105\n",
      "8/8 [==============================] - 0s 23ms/step - loss: 0.0512 - accuracy: 0.9820 - val_loss: 0.0614 - val_accuracy: 0.9778\n",
      "Epoch 30/40\n",
      "1/8 [==>...........................] - ETA: 0s - loss: 0.0736 - accuracy: 0.9688\n",
      "Epoch 00030: val_accuracy did not improve from 0.98105\n",
      "8/8 [==============================] - 0s 24ms/step - loss: 0.0453 - accuracy: 0.9850 - val_loss: 0.0583 - val_accuracy: 0.9787\n",
      "Epoch 31/40\n",
      "1/8 [==>...........................] - ETA: 0s - loss: 0.0404 - accuracy: 0.9844\n",
      "Epoch 00031: val_accuracy did not improve from 0.98105\n",
      "8/8 [==============================] - 0s 33ms/step - loss: 0.0372 - accuracy: 0.9880 - val_loss: 0.0521 - val_accuracy: 0.9807\n",
      "Epoch 32/40\n",
      "1/8 [==>...........................] - ETA: 0s - loss: 0.0339 - accuracy: 0.9922\n",
      "Epoch 00032: val_accuracy did not improve from 0.98105\n",
      "8/8 [==============================] - 0s 22ms/step - loss: 0.0402 - accuracy: 0.9870 - val_loss: 0.0527 - val_accuracy: 0.9805\n",
      "Epoch 33/40\n",
      "1/8 [==>...........................] - ETA: 0s - loss: 0.0530 - accuracy: 0.9844\n",
      "Epoch 00033: val_accuracy improved from 0.98105 to 0.98160, saving model to ./saved_models\n",
      "INFO:tensorflow:Assets written to: ./saved_models/assets\n",
      "8/8 [==============================] - 1s 164ms/step - loss: 0.0350 - accuracy: 0.9920 - val_loss: 0.0496 - val_accuracy: 0.9816\n",
      "Epoch 34/40\n",
      "1/8 [==>...........................] - ETA: 0s - loss: 0.0298 - accuracy: 1.0000\n",
      "Epoch 00034: val_accuracy improved from 0.98160 to 0.98195, saving model to ./saved_models\n",
      "INFO:tensorflow:Assets written to: ./saved_models/assets\n",
      "8/8 [==============================] - 1s 125ms/step - loss: 0.0344 - accuracy: 0.9930 - val_loss: 0.0489 - val_accuracy: 0.9819\n",
      "Epoch 35/40\n",
      "1/8 [==>...........................] - ETA: 0s - loss: 0.0335 - accuracy: 0.9844\n",
      "Epoch 00035: val_accuracy did not improve from 0.98195\n",
      "8/8 [==============================] - 0s 22ms/step - loss: 0.0369 - accuracy: 0.9860 - val_loss: 0.0520 - val_accuracy: 0.9806\n",
      "Epoch 36/40\n",
      "1/8 [==>...........................] - ETA: 0s - loss: 0.0121 - accuracy: 1.0000\n",
      "Epoch 00036: val_accuracy did not improve from 0.98195\n",
      "8/8 [==============================] - 0s 25ms/step - loss: 0.0417 - accuracy: 0.9860 - val_loss: 0.0568 - val_accuracy: 0.9793\n",
      "Epoch 37/40\n",
      "1/8 [==>...........................] - ETA: 0s - loss: 0.1103 - accuracy: 0.9844\n",
      "Epoch 00037: val_accuracy did not improve from 0.98195\n",
      "8/8 [==============================] - 0s 23ms/step - loss: 0.0402 - accuracy: 0.9880 - val_loss: 0.0513 - val_accuracy: 0.9808\n",
      "Epoch 38/40\n",
      "1/8 [==>...........................] - ETA: 0s - loss: 0.0198 - accuracy: 1.0000\n",
      "Epoch 00038: val_accuracy did not improve from 0.98195\n",
      "8/8 [==============================] - 0s 23ms/step - loss: 0.0331 - accuracy: 0.9910 - val_loss: 0.0510 - val_accuracy: 0.9812\n",
      "Epoch 39/40\n",
      "1/8 [==>...........................] - ETA: 0s - loss: 0.0116 - accuracy: 1.0000\n",
      "Epoch 00039: val_accuracy improved from 0.98195 to 0.98220, saving model to ./saved_models\n",
      "INFO:tensorflow:Assets written to: ./saved_models/assets\n",
      "8/8 [==============================] - 1s 125ms/step - loss: 0.0340 - accuracy: 0.9880 - val_loss: 0.0482 - val_accuracy: 0.9822\n",
      "Epoch 40/40\n",
      "1/8 [==>...........................] - ETA: 0s - loss: 0.0172 - accuracy: 1.0000\n",
      "Epoch 00040: val_accuracy improved from 0.98220 to 0.98260, saving model to ./saved_models\n",
      "INFO:tensorflow:Assets written to: ./saved_models/assets\n",
      "8/8 [==============================] - 1s 122ms/step - loss: 0.0325 - accuracy: 0.9890 - val_loss: 0.0480 - val_accuracy: 0.9826\n"
     ]
    }
   ],
   "source": [
    "\n",
    "from tensorflow.keras.models import Sequential\n",
    "from tensorflow.keras.layers import Dense, Dropout\n",
    "from tensorflow.keras.optimizers import RMSprop, Adam\n",
    "from tensorflow.keras.callbacks import ModelCheckpoint\n",
    "\n",
    "batch_size = 128\n",
    "epochs = 40\n",
    "\n",
    "simple_nn = Sequential()\n",
    "simple_nn.add(Dense(150, activation='relu', input_shape=(119,)))\n",
    "simple_nn.add(Dropout(0.2))\n",
    "simple_nn.add(Dense(100, activation='relu'))\n",
    "simple_nn.add(Dropout(0.2))\n",
    "simple_nn.add(Dense(1, activation='sigmoid'))\n",
    "\n",
    "simple_nn.summary()\n",
    "\n",
    "simple_nn.compile(loss='binary_crossentropy',\n",
    "              optimizer=Adam(),\n",
    "              metrics=['accuracy'])\n",
    "\n",
    "checkpoint = ModelCheckpoint('./saved_models', monitor = 'val_accuracy', verbose = 1, save_best_only=True)\n",
    "\n",
    "history = simple_nn.fit(train_features.todense(), y_train,\n",
    "                    batch_size=batch_size,\n",
    "                    epochs=epochs,\n",
    "                    verbose=1,\n",
    "                    callbacks = [checkpoint],\n",
    "                    validation_data=(test_features.todense(), y_test))\n"
   ]
  },
  {
   "cell_type": "code",
   "execution_count": 7,
   "metadata": {},
   "outputs": [
    {
     "name": "stdout",
     "output_type": "stream",
     "text": [
      "F1: 0.983 | Pr: 0.984 | Re: 0.982 | AUC: 0.998 | Accuracy: 0.983 \n",
      "\n"
     ]
    }
   ],
   "source": [
    "\n",
    "\n",
    "from tensorflow.keras.models import load_model\n",
    "\n",
    "simple_nn = load_model('./saved_models')\n",
    "\n",
    "y_pred_prob = simple_nn.predict(test_features.todense())\n",
    "print_model_metrics(y_test, y_pred_prob)"
   ]
  },
  {
   "cell_type": "markdown",
   "metadata": {},
   "source": [
    "## Bagging"
   ]
  },
  {
   "cell_type": "code",
   "execution_count": 8,
   "metadata": {},
   "outputs": [
    {
     "name": "stdout",
     "output_type": "stream",
     "text": [
      "F1: 0.983 | Pr: 0.979 | Re: 0.987 | AUC: 0.998 | Accuracy: 0.983 \n",
      "\n"
     ]
    }
   ],
   "source": [
    "from sklearn.ensemble import BaggingClassifier\n",
    "from sklearn.svm import SVC\n",
    "from sklearn.model_selection import RandomizedSearchCV\n",
    "\n",
    "svm = SVC(C = 10, kernel = 'poly', degree = 2, probability = True, verbose = 0)\n",
    "\n",
    "svm_bag = BaggingClassifier(svm, n_estimators = 200, max_features = 0.9, max_samples = 1.0, bootstrap_features = False, bootstrap = True, n_jobs = 1, verbose = 0)\n",
    "\n",
    "svm_bag.fit(train_features, y_train)\n",
    "y_test_prob = svm_bag.predict_proba(test_features)[:,1]\n",
    "print_model_metrics(y_test, y_test_prob)"
   ]
  },
  {
   "cell_type": "markdown",
   "metadata": {},
   "source": [
    "## Stacking Classifier"
   ]
  },
  {
   "cell_type": "code",
   "execution_count": 9,
   "metadata": {},
   "outputs": [
    {
     "name": "stdout",
     "output_type": "stream",
     "text": [
      "Training LR\n",
      "Training SVM\n",
      "Training NB\n",
      "Training KNN\n",
      "Training XGB\n",
      "Training RF\n",
      "F1: 0.985 | Pr: 0.980 | Re: 0.989 | AUC: 0.999 | Accuracy: 0.985 \n",
      "\n"
     ]
    }
   ],
   "source": [
    "from sklearn.ensemble import RandomForestClassifier\n",
    "from sklearn.neighbors import KNeighborsClassifier\n",
    "from sklearn.naive_bayes import MultinomialNB\n",
    "from xgboost import XGBClassifier\n",
    "from sklearn.svm import SVC\n",
    "from sklearn.linear_model import SGDClassifier\n",
    "\n",
    "lr = SGDClassifier(loss = 'log', alpha = 0.1, penalty = 'elasticnet')\n",
    "svm = SVC(C = 10, kernel = 'poly', degree = 2, probability = True)\n",
    "nb = MultinomialNB(alpha = 10000, class_prior = [0.5, 0.5])\n",
    "knn = KNeighborsClassifier(n_neighbors = 7, weights = 'distance', n_jobs = 2)\n",
    "rf = RandomForestClassifier(n_estimators = 250, min_samples_split = 5, max_depth = 15,  n_jobs = -1)\n",
    "xgb = XGBClassifier(n_estimators = 100, learning_rate = 0.3, max_depth = 1, n_jobs = -1)\n",
    "\n",
    "model_dict = dict(zip(['LR', 'SVM', 'NB', 'KNN', 'XGB', 'RF'], [lr, svm, nb, knn, xgb, rf]))\n",
    "\n",
    "for model_name, model in model_dict.items():\n",
    "    print('Training {}'.format(model_name))\n",
    "    if model_name == 'XGB':\n",
    "        model.fit(train_features.todense(), y_train)\n",
    "    else:\n",
    "        model.fit(train_features, y_train)\n",
    "\n",
    "model_weights = {   'LR' : 0.9,\n",
    "                    'SVM' : 0.9,\n",
    "                    'NB' : 0.8,\n",
    "                    'KNN' : 0.75,\n",
    "                    'RF' : 0.75,\n",
    "                    'XGB' : 0.6,\n",
    "                    'simple_nn' : 0.7\n",
    "}\n",
    "\n",
    "y_pred_prob = 0\n",
    "\n",
    "for model_name, model in model_dict.items():\n",
    "    if model_name == 'XGB':\n",
    "        y_pred_prob += (model.predict_proba(test_features.todense())[:,1] * model_weights[model_name])\n",
    "    else:\n",
    "        y_pred_prob += (model.predict_proba(test_features)[:,1] * model_weights[model_name])\n",
    "\n",
    "y_pred_prob += (simple_nn.predict(test_features.todense()).ravel() * model_weights['simple_nn'])\n",
    "y_pred_prob /= sum(model_weights.values())\n",
    "\n",
    "print_model_metrics(y_test, y_pred_prob)"
   ]
  },
  {
   "cell_type": "code",
   "execution_count": 10,
   "metadata": {},
   "outputs": [],
   "source": [
    "def run_voting_clf(model_weights):\n",
    "    y_pred_prob = 0\n",
    "\n",
    "    for model_name, model in model_dict.items():\n",
    "        if model_name == 'XGB':\n",
    "            y_pred_prob += (model.predict_proba(test_features.todense())[:,1] * model_weights[model_name])\n",
    "        else:   \n",
    "            y_pred_prob += (model.predict_proba(test_features)[:,1] * model_weights[model_name])\n",
    "\n",
    "    #y_pred_prob += (simple_nn.get_preds(ds_type = DatasetType.Valid)[0].numpy()[:,0] * model_weights['simple_nn'])\n",
    "    y_pred_prob += (simple_nn.predict(test_features.todense()).ravel() * model_weights['simple_nn'])\n",
    "    y_pred_prob /= sum(model_weights.values())\n",
    "    f1 = print_model_metrics(y_test, y_pred_prob, return_metrics = True, verbose = 0)[0]\n",
    "    return {'loss' : -f1, 'status' : STATUS_OK}\n"
   ]
  },
  {
   "cell_type": "code",
   "execution_count": 11,
   "metadata": {},
   "outputs": [
    {
     "name": "stdout",
     "output_type": "stream",
     "text": [
      "100%|██████████| 5/5 [00:25<00:00,  5.05s/trial, best loss: -0.985352730171383] \n"
     ]
    }
   ],
   "source": [
    "from hyperopt import fmin, tpe, hp, STATUS_OK, Trials\n",
    "\n",
    "trials = Trials()\n",
    "model_weights = fmin(run_voting_clf,\n",
    "    space= {\n",
    "        'LR' : hp.uniform('LR', 0, 1),\n",
    "        'SVM' : hp.uniform('SVM', 0, 1),\n",
    "        'NB' : hp.uniform('NB', 0, 1),\n",
    "        'KNN' : hp.uniform('KNN', 0, 1),\n",
    "        'RF' : hp.uniform('RF', 0, 1),\n",
    "        'XGB' : hp.uniform('XGB', 0, 1),\n",
    "        'simple_nn' : hp.uniform('simple_nn', 0, 1),\n",
    "    },\n",
    "    algo=tpe.suggest,\n",
    "    max_evals=5,\n",
    "    trials = trials)\n"
   ]
  },
  {
   "cell_type": "code",
   "execution_count": 12,
   "metadata": {},
   "outputs": [
    {
     "name": "stdout",
     "output_type": "stream",
     "text": [
      "F1: 0.983 | Pr: 0.983 | Re: 0.984 | AUC: 0.999 | Accuracy: 0.983 \n",
      "\n"
     ]
    },
    {
     "data": {
      "image/png": "[encoded data removed]",
      "text/plain": [
       "<Figure size 432x288 with 2 Axes>"
      ]
     },
     "metadata": {
      "needs_background": "light"
     },
     "output_type": "display_data"
    }
   ],
   "source": [
    "model_weights = {'KNN': 0.7866810233035141,\n",
    " 'LR': 0.8036572275670447,\n",
    " 'NB': 0.9102009774357307,\n",
    " 'RF': 0.1559824350958057,\n",
    " 'SVM': 0.9355079606348642,\n",
    " 'XGB': 0.33469066125332436,\n",
    " 'simple_nn': 0.000545264707939086}\n",
    "\n",
    "\n",
    "\n",
    "\n",
    "\n",
    "y_pred_prob = 0\n",
    "for model_name, model in model_dict.items():\n",
    "    if model_name == 'XGB':\n",
    "        y_pred_prob += (model.predict_proba(test_features.todense())[:,1] * model_weights[model_name])\n",
    "    else:   \n",
    "        y_pred_prob += (model.predict_proba(test_features)[:,1] * model_weights[model_name])\n",
    "\n",
    "y_pred_prob += (simple_nn.predict(test_features.todense()).ravel() * model_weights['simple_nn'])\n",
    "y_pred_prob /= sum(model_weights.values())\n",
    "print_model_metrics(y_test, y_pred_prob, confusion = True)\n",
    "\n"
   ]
  },
  {
   "cell_type": "code",
   "execution_count": 13,
   "metadata": {},
   "outputs": [],
   "source": [
    "precision, recall, threshold = precision_recall_curve(y_test, y_pred_prob, pos_label = 1)\n",
    "    \n",
    "#Find the threshold value that gives the best F1 Score\n",
    "best_f1_index =np.argmax([calc_f1(p_r) for p_r in zip(precision, recall)])\n",
    "best_threshold, best_precision, best_recall = threshold[best_f1_index], precision[best_f1_index], recall[best_f1_index]\n",
    "\n",
    "# Calulcate predictions based on the threshold value\n",
    "y_test_pred = np.where(y_test_prob > best_threshold, 1, 0)"
   ]
  },
  {
   "cell_type": "code",
   "execution_count": 14,
   "metadata": {},
   "outputs": [],
   "source": [
    "misclassified_idx = y_test != y_test_pred\n",
    "high_confidence_indices = np.argsort(y_test_prob[misclassified_idx])[-10:]"
   ]
  },
  {
   "cell_type": "code",
   "execution_count": 15,
   "metadata": {},
   "outputs": [
    {
     "name": "stdout",
     "output_type": "stream",
     "text": [
      "Title : Like Bats, Shrews Let Echoes Be Their Guide\n",
      "Label : not-clickbait\n",
      "Predicted Probability : 0.9602175934546525\n",
      "----------\n",
      "Title : Just Browsing? A Web Store May Follow You Out the Door\n",
      "Label : not-clickbait\n",
      "Predicted Probability : 0.9614956922582023\n",
      "----------\n",
      "Title : Florida Pharmacy Admits Error That Might Have Killed Polo Ponies\n",
      "Label : not-clickbait\n",
      "Predicted Probability : 0.971754878830899\n",
      "----------\n",
      "Title : Curlers Prove Not All Brazilian Sweepers Play Soccer\n",
      "Label : not-clickbait\n",
      "Predicted Probability : 0.9765613662020515\n",
      "----------\n",
      "Title : Evidence That Mice Produce Egg Cells After Birth\n",
      "Label : not-clickbait\n",
      "Predicted Probability : 0.9843639222791714\n",
      "----------\n",
      "Title : Remembering Srebrenice massacre\n",
      "Label : not-clickbait\n",
      "Predicted Probability : 0.9882503977035892\n",
      "----------\n",
      "Title : Kosher Label Missing From Girl Scout Cookies\n",
      "Label : not-clickbait\n",
      "Predicted Probability : 0.9923747465122486\n",
      "----------\n",
      "Title : Is This a Shakespeare Which I See Before Me?\n",
      "Label : not-clickbait\n",
      "Predicted Probability : 0.9979251814662323\n",
      "----------\n",
      "Title : What Do Dreams Mean? Whatever Your Bias Says\n",
      "Label : not-clickbait\n",
      "Predicted Probability : 0.9981359395288841\n",
      "----------\n",
      "Title : Darwinism Must Die So That Evolution May Live\n",
      "Label : not-clickbait\n",
      "Predicted Probability : 0.9991137473682477\n",
      "----------\n"
     ]
    }
   ],
   "source": [
    "for idx in high_confidence_indices:\n",
    "    print('Title : {}'.format(test[misclassified_idx].title.values[idx]))\n",
    "    print('Label : {}'.format(test[misclassified_idx].label.values[idx]))\n",
    "    print('Predicted Probability : {}'.format(y_test_prob[misclassified_idx][idx]))\n",
    "    print('-' * 10)"
   ]
  },
  {
   "cell_type": "code",
   "execution_count": 16,
   "metadata": {},
   "outputs": [
    {
     "data": {
      "text/plain": [
       "array(['Knicks Try Out Guard Morris Almond and Like What They See',\n",
       "       'US military to withdraw military trainers from Pakistan',\n",
       "       'Charles Manson releases album under free license',\n",
       "       'Sri Lanka Orders Halt to Fighting Circled Rebels',\n",
       "       'Stopgap at Shortstop? Boston Hopes for More',\n",
       "       'Plan to Make Gowanus Canal a Superfund Site Draws Opposition',\n",
       "       'Two Knicks Who Are Worth Keeping', 'AOL to launch VoIP service',\n",
       "       'Federal response to Katrina a \"national disgrace\"',\n",
       "       'Evolutionary biology labs at University of Colorado threatened'],\n",
       "      dtype=object)"
      ]
     },
     "execution_count": 16,
     "metadata": {},
     "output_type": "execute_result"
    }
   ],
   "source": [
    "test[test.label.values == 'not-clickbait'].sample(10).title.values"
   ]
  },
  {
   "cell_type": "code",
   "execution_count": null,
   "metadata": {},
   "outputs": [],
   "source": []
  },
  {
   "cell_type": "code",
   "execution_count": null,
   "metadata": {},
   "outputs": [],
   "source": []
  },
  {
   "cell_type": "code",
   "execution_count": null,
   "metadata": {},
   "outputs": [],
   "source": []
  },
  {
   "cell_type": "code",
   "execution_count": null,
   "metadata": {},
   "outputs": [],
   "source": []
  },
  {
   "cell_type": "code",
   "execution_count": null,
   "metadata": {},
   "outputs": [],
   "source": []
  },
  {
   "cell_type": "code",
   "execution_count": null,
   "metadata": {},
   "outputs": [],
   "source": []
  },
  {
   "cell_type": "code",
   "execution_count": null,
   "metadata": {},
   "outputs": [],
   "source": []
  },
  {
   "cell_type": "code",
   "execution_count": null,
   "metadata": {},
   "outputs": [],
   "source": [
    "\n"
   ]
  }
 ],
 "metadata": {
  "kernelspec": {
   "display_name": "Python 3",
   "language": "python",
   "name": "python3"
  },
  "language_info": {
   "codemirror_mode": {
    "name": "ipython",
    "version": 3
   },
   "file_extension": ".py",
   "mimetype": "text/x-python",
   "name": "python",
   "nbconvert_exporter": "python",
   "pygments_lexer": "ipython3",
   "version": "3.7.6"
  }
 },
 "nbformat": 4,
 "nbformat_minor": 4
}
